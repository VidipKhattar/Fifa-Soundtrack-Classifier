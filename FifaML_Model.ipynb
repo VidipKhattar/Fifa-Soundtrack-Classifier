{
 "cells": [
  {
   "cell_type": "code",
   "execution_count": 44,
   "id": "947ba98e",
   "metadata": {},
   "outputs": [],
   "source": [
    "import os\n",
    "import librosa\n",
    "import numpy as np\n",
    "import pandas as pd\n",
    "from sklearn.model_selection import train_test_split\n",
    "from sklearn.svm import SVC \n",
    "from sklearn.metrics import accuracy_score, precision_score, recall_score, f1_score, classification_report\n",
    "\n",
    "from sklearn.ensemble import RandomForestClassifier\n",
    "from sklearn.preprocessing import StandardScaler\n",
    "\n",
    "from joblib import dump, load\n",
    "\n",
    "\n",
    "import warnings\n",
    "import sys\n",
    "import contextlib\n",
    "from ast import literal_eval\n",
    "\n",
    "from imblearn.over_sampling import SMOTE\n",
    "\n",
    "\n"
   ]
  },
  {
   "cell_type": "code",
   "execution_count": 3,
   "id": "d93f0c28",
   "metadata": {
    "scrolled": false
   },
   "outputs": [
    {
     "name": "stdout",
     "output_type": "stream",
     "text": [
      "No common files found.\n"
     ]
    }
   ],
   "source": [
    "def list_files_with_paths(base_path):\n",
    "    file_paths = {}\n",
    "    for year_folder in os.listdir(base_path):\n",
    "        year_path = os.path.join(base_path, year_folder)\n",
    "        if os.path.isdir(year_path):\n",
    "            for file_name in os.listdir(year_path):\n",
    "                if file_name.endswith('.mp3'):\n",
    "                    full_path = os.path.join(year_path, file_name)\n",
    "                    if file_name not in file_paths:\n",
    "                        file_paths[file_name] = []\n",
    "                    file_paths[file_name].append(full_path)\n",
    "    return file_paths\n",
    "\n",
    "fifa_base_path = '/Users/vidipkhattar/Developer/YT_FIFA_soundtrack_fetch/fifa_music'\n",
    "non_fifa_base_path = '/Users/vidipkhattar/Developer/YT_FIFA_soundtrack_fetch/non_fifa_music'\n",
    "\n",
    "# List all filenames and their full paths in the FIFA and non-FIFA directories\n",
    "fifa_files_with_paths = list_files_with_paths(fifa_base_path)\n",
    "non_fifa_files_with_paths = list_files_with_paths(non_fifa_base_path)\n",
    "\n",
    "# Find common filenames\n",
    "common_files = set(fifa_files_with_paths.keys()).intersection(set(non_fifa_files_with_paths.keys()))\n",
    "\n",
    "if common_files:\n",
    "    print(f\"Common files found: {len(common_files)}\")\n",
    "    for file in common_files:\n",
    "        print(f\"\\nFile: {file}\")\n",
    "        print(\"FIFA paths:\")\n",
    "        for path in fifa_files_with_paths[file]:\n",
    "            print(f\" - {path}\")\n",
    "        print(\"Non-FIFA paths:\")\n",
    "        for path in non_fifa_files_with_paths[file]:\n",
    "            print(f\" - {path}\")\n",
    "else:\n",
    "    print(\"No common files found.\")\n"
   ]
  },
  {
   "cell_type": "code",
   "execution_count": 4,
   "id": "80b3c58b",
   "metadata": {},
   "outputs": [],
   "source": [
    "warnings.filterwarnings(\"ignore\")\n",
    "\n",
    "@contextlib.contextmanager\n",
    "def suppress_stderr():\n",
    "    with open(os.devnull, 'w') as devnull:\n",
    "        old_stderr = sys.stderr\n",
    "        sys.stderr = devnull\n",
    "        try:\n",
    "            yield\n",
    "        finally:\n",
    "            sys.stderr = old_stderr"
   ]
  },
  {
   "cell_type": "code",
   "execution_count": 5,
   "id": "f2d104ef",
   "metadata": {},
   "outputs": [],
   "source": [
    "def preprocess_audio(file_path, target_sr=22050):\n",
    "    with suppress_stderr():\n",
    "        y, sr = librosa.load(file_path, sr=target_sr)\n",
    "    return y, sr"
   ]
  },
  {
   "cell_type": "code",
   "execution_count": 6,
   "id": "132b8f6e",
   "metadata": {},
   "outputs": [],
   "source": [
    "\"\"\"\n",
    "\n",
    "def extract_features(file_path):\n",
    "    features = []\n",
    "    # Extract MFCCs\n",
    "    mfccs = librosa.feature.mfcc(y=y, sr=sr, n_mfcc=13)\n",
    "    mfccs_mean = np.mean(mfccs.T, axis=0)\n",
    "    features.extend(mfccs_mean)\n",
    "    # Extract Chroma\n",
    "    chroma = librosa.feature.chroma_stft(y=y, sr=sr)\n",
    "    chroma_mean = np.mean(chroma.T, axis=0)\n",
    "    features.extend(chroma_mean)\n",
    "    # Extract Spectral Contrast\n",
    "    spectral_contrast = librosa.feature.spectral_contrast(y=y, sr=sr)\n",
    "    spectral_contrast_mean = np.mean(spectral_contrast.T, axis=0)\n",
    "    features.extend(spectral_contrast_mean)\n",
    "    return np.array(features)\n",
    "    \n",
    "\"\"\"\n",
    "\n",
    "\n",
    "def extract_features(file_path):\n",
    "    y, sr = preprocess_audio(file_path)\n",
    "    features = {\n",
    "        'mfcc_mean': np.mean(librosa.feature.mfcc(y=y, sr=sr), axis=1),\n",
    "        'chroma_mean': np.mean(librosa.feature.chroma_stft(y=y, sr=sr), axis=1),\n",
    "        'spectral_contrast_mean': np.mean(librosa.feature.spectral_contrast(y=y, sr=sr), axis=1),\n",
    "        'mfcc': librosa.feature.mfcc(y=y, sr=sr),\n",
    "        'chroma': librosa.feature.chroma_stft(y=y, sr=sr),\n",
    "        'spectral_contrast': librosa.feature.spectral_contrast(y=y, sr=sr),\n",
    "        'tempo': librosa.beat.tempo(y=y, sr=sr)[0]\n",
    "    }\n",
    "    return features\n"
   ]
  },
  {
   "cell_type": "code",
   "execution_count": null,
   "id": "00acc444",
   "metadata": {},
   "outputs": [
    {
     "name": "stdout",
     "output_type": "stream",
     "text": [
      "start\n",
      "/Users/vidipkhattar/Developer/YT_FIFA_soundtrack_fetch/fifa_music/\n",
      "2013/Professional Griefers - Deadmau5 feat. Gerard Way - Lyrics!.mp3\n"
     ]
    },
    {
     "name": "stderr",
     "output_type": "stream",
     "text": [
      "[src/libmpg123/parse.c:skip_junk():1276] error: Giving up searching valid MPEG header after 65536 bytes of junk.\n"
     ]
    },
    {
     "name": "stdout",
     "output_type": "stream",
     "text": [
      "Processed 1/694 files\n",
      "2013/Ghosts.mp3\n",
      "Processed 2/694 files\n",
      "2013/On Top Of The World.mp3\n",
      "Processed 3/694 files\n",
      "2013/Astro - Panda.mp3\n"
     ]
    },
    {
     "name": "stderr",
     "output_type": "stream",
     "text": [
      "[src/libmpg123/layer1.c:check_balloc():30] error: Illegal bit allocation value.\n",
      "[src/libmpg123/layer1.c:INT123_do_layer1():228] error: Aborting layer I decoding after step one.\n",
      "[src/libmpg123/layer1.c:check_balloc():30] error: Illegal bit allocation value.\n",
      "[src/libmpg123/layer1.c:INT123_do_layer1():228] error: Aborting layer I decoding after step one.\n",
      "Note: Illegal Audio-MPEG-Header 0xa34d1087 at offset 36754.\n",
      "Note: Trying to resync...\n",
      "Note: Skipped 561 bytes in input.\n",
      "[src/libmpg123/layer1.c:check_balloc():30] error: Illegal bit allocation value.\n",
      "[src/libmpg123/layer1.c:INT123_do_layer1():228] error: Aborting layer I decoding after step one.\n",
      "Note: Illegal Audio-MPEG-Header 0x65828ed3 at offset 37383.\n",
      "Note: Trying to resync...\n",
      "Note: Skipped 463 bytes in input.\n",
      "[src/libmpg123/layer1.c:I_step_two():144] error: 467 bits needed, 15 available\n",
      "[src/libmpg123/layer1.c:INT123_do_layer1():237] error: Aborting layer I decoding after step two.\n",
      "[src/libmpg123/layer1.c:check_balloc():30] error: Illegal bit allocation value.\n",
      "[src/libmpg123/layer1.c:INT123_do_layer1():228] error: Aborting layer I decoding after step one.\n",
      "Note: Illegal Audio-MPEG-Header 0xcdfe0716 at offset 47350.\n",
      "Note: Trying to resync...\n",
      "Note: Skipped 323 bytes in input.\n",
      "[src/libmpg123/parse.c:skip_junk():1276] error: Giving up searching valid MPEG header after 65536 bytes of junk.\n"
     ]
    },
    {
     "name": "stdout",
     "output_type": "stream",
     "text": [
      "Processed 4/694 files\n",
      "2013/Miike Snow - Paddling Out.mp3\n"
     ]
    },
    {
     "name": "stderr",
     "output_type": "stream",
     "text": [
      "[src/libmpg123/parse.c:skip_junk():1276] error: Giving up searching valid MPEG header after 65536 bytes of junk.\n"
     ]
    },
    {
     "name": "stdout",
     "output_type": "stream",
     "text": [
      "Processed 5/694 files\n",
      "2013/See the Light.mp3\n"
     ]
    },
    {
     "name": "stderr",
     "output_type": "stream",
     "text": [
      "[src/libmpg123/parse.c:skip_junk():1276] error: Giving up searching valid MPEG header after 65536 bytes of junk.\n"
     ]
    },
    {
     "name": "stdout",
     "output_type": "stream",
     "text": [
      "Processed 6/694 files\n",
      "2013/Weight Of Living, Pt. II.mp3\n"
     ]
    },
    {
     "name": "stderr",
     "output_type": "stream",
     "text": [
      "[src/libmpg123/parse.c:skip_junk():1276] error: Giving up searching valid MPEG header after 65536 bytes of junk.\n"
     ]
    },
    {
     "name": "stdout",
     "output_type": "stream",
     "text": [
      "Processed 7/694 files\n",
      "2013/Flo Rida feat. Lil Wayne - Let It Roll, Part 2 - FIFA 13 Soundtrack.mp3\n"
     ]
    },
    {
     "name": "stderr",
     "output_type": "stream",
     "text": [
      "[src/libmpg123/parse.c:skip_junk():1276] error: Giving up searching valid MPEG header after 65536 bytes of junk.\n"
     ]
    },
    {
     "name": "stdout",
     "output_type": "stream",
     "text": [
      "ERRROROROOROROR\n",
      "2013/Come Into My Head.mp3\n"
     ]
    },
    {
     "name": "stderr",
     "output_type": "stream",
     "text": [
      "[src/libmpg123/parse.c:skip_junk():1276] error: Giving up searching valid MPEG header after 65536 bytes of junk.\n"
     ]
    },
    {
     "name": "stdout",
     "output_type": "stream",
     "text": [
      "Processed 8/694 files\n",
      "2013/Club Foot (Official Video).mp3\n"
     ]
    },
    {
     "name": "stderr",
     "output_type": "stream",
     "text": [
      "[src/libmpg123/parse.c:skip_junk():1276] error: Giving up searching valid MPEG header after 65536 bytes of junk.\n"
     ]
    },
    {
     "name": "stdout",
     "output_type": "stream",
     "text": [
      "Processed 9/694 files\n",
      "2013/Black White & Blue.mp3\n"
     ]
    },
    {
     "name": "stderr",
     "output_type": "stream",
     "text": [
      "[src/libmpg123/parse.c:skip_junk():1276] error: Giving up searching valid MPEG header after 65536 bytes of junk.\n"
     ]
    },
    {
     "name": "stdout",
     "output_type": "stream",
     "text": [
      "Processed 10/694 files\n",
      "2013/Get out While You Can.mp3\n"
     ]
    },
    {
     "name": "stderr",
     "output_type": "stream",
     "text": [
      "[src/libmpg123/parse.c:skip_junk():1276] error: Giving up searching valid MPEG header after 65536 bytes of junk.\n"
     ]
    },
    {
     "name": "stdout",
     "output_type": "stream",
     "text": [
      "Processed 11/694 files\n",
      "2013/Us Against the World.mp3\n",
      "Processed 12/694 files\n",
      "2013/Shine The Light.mp3\n"
     ]
    },
    {
     "name": "stderr",
     "output_type": "stream",
     "text": [
      "[src/libmpg123/layer1.c:check_balloc():30] error: Illegal bit allocation value.\n",
      "[src/libmpg123/layer1.c:INT123_do_layer1():228] error: Aborting layer I decoding after step one.\n",
      "Note: Illegal Audio-MPEG-Header 0x13a1960a at offset 4434.\n",
      "Note: Trying to resync...\n",
      "Note: Skipped 285 bytes in input.\n",
      "[src/libmpg123/layer1.c:check_balloc():30] error: Illegal bit allocation value.\n",
      "[src/libmpg123/layer1.c:INT123_do_layer1():228] error: Aborting layer I decoding after step one.\n",
      "Note: Illegal Audio-MPEG-Header 0x8c3c3e8b at offset 4995.\n",
      "Note: Trying to resync...\n",
      "Note: Skipped 32 bytes in input.\n",
      "[src/libmpg123/parse.c:skip_junk():1276] error: Giving up searching valid MPEG header after 65536 bytes of junk.\n"
     ]
    },
    {
     "name": "stdout",
     "output_type": "stream",
     "text": [
      "Processed 13/694 files\n",
      "2013/Ashtar Command - Mark IV (feat. Joshua Radin).mp3\n"
     ]
    },
    {
     "name": "stderr",
     "output_type": "stream",
     "text": [
      "[src/libmpg123/parse.c:skip_junk():1276] error: Giving up searching valid MPEG header after 65536 bytes of junk.\n"
     ]
    },
    {
     "name": "stdout",
     "output_type": "stream",
     "text": [
      "Processed 14/694 files\n",
      "2013/Fifa 13 Soundtrack - Champion - The Chevin.mp3\n",
      "Processed 15/694 files\n",
      "2013/We Come Running.mp3\n"
     ]
    },
    {
     "name": "stderr",
     "output_type": "stream",
     "text": [
      "[src/libmpg123/layer1.c:check_balloc():30] error: Illegal bit allocation value.\n",
      "[src/libmpg123/layer1.c:INT123_do_layer1():228] error: Aborting layer I decoding after step one.\n",
      "[src/libmpg123/layer1.c:check_balloc():30] error: Illegal bit allocation value.\n",
      "[src/libmpg123/layer1.c:INT123_do_layer1():228] error: Aborting layer I decoding after step one.\n",
      "Note: Illegal Audio-MPEG-Header 0xb0e9a0b6 at offset 22960.\n",
      "Note: Trying to resync...\n",
      "Note: Skipped 23 bytes in input.\n",
      "[src/libmpg123/layer1.c:I_step_one():75] error: 348 bits needed, 288 available\n",
      "[src/libmpg123/layer1.c:INT123_do_layer1():228] error: Aborting layer I decoding after step one.\n",
      "Note: Illegal Audio-MPEG-Header 0x7377abd6 at offset 23055.\n",
      "Note: Trying to resync...\n",
      "Note: Skipped 189 bytes in input.\n",
      "[src/libmpg123/parse.c:skip_junk():1276] error: Giving up searching valid MPEG header after 65536 bytes of junk.\n"
     ]
    },
    {
     "name": "stdout",
     "output_type": "stream",
     "text": [
      "Processed 16/694 files\n",
      "2013/REPTAR- Sweet Sipping Soda.mp3\n"
     ]
    },
    {
     "name": "stderr",
     "output_type": "stream",
     "text": [
      "[src/libmpg123/parse.c:skip_junk():1276] error: Giving up searching valid MPEG header after 65536 bytes of junk.\n"
     ]
    },
    {
     "name": "stdout",
     "output_type": "stream",
     "text": [
      "Processed 17/694 files\n",
      "2013/Sleep Alone (Live at Brixton Academy, London, 2012).mp3\n"
     ]
    },
    {
     "name": "stderr",
     "output_type": "stream",
     "text": [
      "[src/libmpg123/parse.c:skip_junk():1276] error: Giving up searching valid MPEG header after 65536 bytes of junk.\n"
     ]
    },
    {
     "name": "stdout",
     "output_type": "stream",
     "text": [
      "Processed 18/694 files\n",
      "2013/Bliss Out.mp3\n"
     ]
    },
    {
     "name": "stderr",
     "output_type": "stream",
     "text": [
      "[src/libmpg123/parse.c:skip_junk():1276] error: Giving up searching valid MPEG header after 65536 bytes of junk.\n"
     ]
    },
    {
     "name": "stdout",
     "output_type": "stream",
     "text": [
      "Processed 19/694 files\n",
      "2013/Quesadilla (Official Video - 7in7).mp3\n",
      "Processed 20/694 files\n",
      "2013/Wild.mp3\n",
      "Processed 21/694 files\n",
      "2013/If So.mp3\n"
     ]
    },
    {
     "name": "stderr",
     "output_type": "stream",
     "text": [
      "[src/libmpg123/layer1.c:check_balloc():30] error: Illegal bit allocation value.\n",
      "[src/libmpg123/layer1.c:INT123_do_layer1():228] error: Aborting layer I decoding after step one.\n",
      "[src/libmpg123/layer1.c:check_balloc():30] error: Illegal bit allocation value.\n",
      "[src/libmpg123/layer1.c:INT123_do_layer1():228] error: Aborting layer I decoding after step one.\n",
      "Note: Illegal Audio-MPEG-Header 0xd5aa225b at offset 50489.\n",
      "Note: Trying to resync...\n",
      "Note: Skipped 959 bytes in input.\n",
      "[src/libmpg123/layer1.c:check_balloc():30] error: Illegal bit allocation value.\n",
      "[src/libmpg123/layer1.c:INT123_do_layer1():228] error: Aborting layer I decoding after step one.\n",
      "[src/libmpg123/layer1.c:check_balloc():30] error: Illegal bit allocation value.\n",
      "[src/libmpg123/layer1.c:INT123_do_layer1():228] error: Aborting layer I decoding after step one.\n",
      "Note: Illegal Audio-MPEG-Header 0xedc8ffff at offset 36366.\n",
      "Note: Trying to resync...\n",
      "Note: Skipped 2 bytes in input.\n",
      "[src/libmpg123/parse.c:skip_junk():1276] error: Giving up searching valid MPEG header after 65536 bytes of junk.\n"
     ]
    },
    {
     "name": "stdout",
     "output_type": "stream",
     "text": [
      "Processed 22/694 files\n",
      "2013/Got That Fire (Oh La Ha).mp3\n"
     ]
    },
    {
     "name": "stderr",
     "output_type": "stream",
     "text": [
      "Note: Illegal Audio-MPEG-Header 0x0a287afc at offset 22045.\n",
      "Note: Trying to resync...\n",
      "Note: Skipped 1024 bytes in input.\n",
      "[src/libmpg123/parse.c:wetwork():1365] error: Giving up resync after 1024 bytes - your stream is not nice... (maybe increasing resync limit could help).\n"
     ]
    },
    {
     "name": "stdout",
     "output_type": "stream",
     "text": [
      "Processed 23/694 files\n",
      "2013/Stepdad - Jungles [Lyrics Video].mp3\n"
     ]
    },
    {
     "name": "stderr",
     "output_type": "stream",
     "text": [
      "[src/libmpg123/parse.c:skip_junk():1276] error: Giving up searching valid MPEG header after 65536 bytes of junk.\n"
     ]
    },
    {
     "name": "stdout",
     "output_type": "stream",
     "text": [
      "Processed 24/694 files\n",
      "2013/The Heavy - Don't Say Nothing.mp3\n"
     ]
    },
    {
     "name": "stderr",
     "output_type": "stream",
     "text": [
      "[src/libmpg123/parse.c:skip_junk():1276] error: Giving up searching valid MPEG header after 65536 bytes of junk.\n"
     ]
    },
    {
     "name": "stdout",
     "output_type": "stream",
     "text": [
      "Processed 25/694 files\n",
      "2013/Spark.mp3\n"
     ]
    },
    {
     "name": "stderr",
     "output_type": "stream",
     "text": [
      "Note: Illegal Audio-MPEG-Header 0xffe204b5 at offset 47187.\n",
      "Note: Trying to resync...\n",
      "Note: Skipped 287 bytes in input.\n",
      "[src/libmpg123/parse.c:skip_junk():1276] error: Giving up searching valid MPEG header after 65536 bytes of junk.\n"
     ]
    },
    {
     "name": "stdout",
     "output_type": "stream",
     "text": [
      "Processed 26/694 files\n",
      "2013/Cali - Outta My Mind.mp3\n"
     ]
    },
    {
     "name": "stderr",
     "output_type": "stream",
     "text": [
      "[src/libmpg123/parse.c:skip_junk():1276] error: Giving up searching valid MPEG header after 65536 bytes of junk.\n"
     ]
    },
    {
     "name": "stdout",
     "output_type": "stream",
     "text": [
      "Processed 27/694 files\n",
      "2013/Zemaria - Past 2  (FIFA13 Soundtrack) Official Video.mp3\n"
     ]
    },
    {
     "name": "stderr",
     "output_type": "stream",
     "text": [
      "[src/libmpg123/parse.c:skip_junk():1276] error: Giving up searching valid MPEG header after 65536 bytes of junk.\n"
     ]
    },
    {
     "name": "stdout",
     "output_type": "stream",
     "text": [
      "Processed 28/694 files\n",
      "2013/Saturday.mp3\n"
     ]
    },
    {
     "name": "stderr",
     "output_type": "stream",
     "text": [
      "[src/libmpg123/parse.c:skip_junk():1276] error: Giving up searching valid MPEG header after 65536 bytes of junk.\n"
     ]
    },
    {
     "name": "stdout",
     "output_type": "stream",
     "text": [
      "Processed 29/694 files\n",
      "2013/We Are Not Good People.mp3\n"
     ]
    },
    {
     "name": "stderr",
     "output_type": "stream",
     "text": [
      "[src/libmpg123/parse.c:skip_junk():1276] error: Giving up searching valid MPEG header after 65536 bytes of junk.\n"
     ]
    },
    {
     "name": "stdout",
     "output_type": "stream",
     "text": [
      "Processed 30/694 files\n",
      "2013/Jonathan Boulet - You're A Animal.mp3\n"
     ]
    },
    {
     "name": "stderr",
     "output_type": "stream",
     "text": [
      "[src/libmpg123/layer1.c:check_balloc():30] error: Illegal bit allocation value.\n",
      "[src/libmpg123/layer1.c:INT123_do_layer1():228] error: Aborting layer I decoding after step one.\n",
      "[src/libmpg123/layer1.c:check_balloc():30] error: Illegal bit allocation value.\n",
      "[src/libmpg123/layer1.c:INT123_do_layer1():228] error: Aborting layer I decoding after step one.\n",
      "Note: Illegal Audio-MPEG-Header 0x3c7ebe82 at offset 9728.\n",
      "Note: Trying to resync...\n",
      "Note: Skipped 1024 bytes in input.\n",
      "[src/libmpg123/parse.c:wetwork():1365] error: Giving up resync after 1024 bytes - your stream is not nice... (maybe increasing resync limit could help).\n"
     ]
    },
    {
     "name": "stdout",
     "output_type": "stream",
     "text": [
      "Processed 31/694 files\n",
      "2013/Rain of Gold.mp3\n"
     ]
    },
    {
     "name": "stderr",
     "output_type": "stream",
     "text": [
      "[src/libmpg123/parse.c:skip_junk():1276] error: Giving up searching valid MPEG header after 65536 bytes of junk.\n"
     ]
    },
    {
     "name": "stdout",
     "output_type": "stream",
     "text": [
      "Processed 32/694 files\n",
      "2013/I'll Be Alright.mp3\n"
     ]
    },
    {
     "name": "stderr",
     "output_type": "stream",
     "text": [
      "[src/libmpg123/parse.c:skip_junk():1276] error: Giving up searching valid MPEG header after 65536 bytes of junk.\n"
     ]
    },
    {
     "name": "stdout",
     "output_type": "stream",
     "text": [
      "Processed 33/694 files\n",
      "2013/Wretch32 - Blur (Full Version HQ) (Loud Version) + Lyrics.mp3\n",
      "Processed 34/694 files\n",
      "2013/Eure Mädchen.mp3\n"
     ]
    },
    {
     "name": "stderr",
     "output_type": "stream",
     "text": [
      "[src/libmpg123/layer1.c:I_step_two():144] error: 382 bits needed, 374 available\n",
      "[src/libmpg123/layer1.c:INT123_do_layer1():237] error: Aborting layer I decoding after step two.\n",
      "[src/libmpg123/layer1.c:I_step_two():144] error: 422 bits needed, 188 available\n",
      "[src/libmpg123/layer1.c:INT123_do_layer1():237] error: Aborting layer I decoding after step two.\n",
      "[src/libmpg123/parse.c:skip_junk():1276] error: Giving up searching valid MPEG header after 65536 bytes of junk.\n"
     ]
    },
    {
     "name": "stdout",
     "output_type": "stream",
     "text": [
      "Processed 35/694 files\n",
      "2013/G#.mp3\n"
     ]
    },
    {
     "name": "stderr",
     "output_type": "stream",
     "text": [
      "[src/libmpg123/parse.c:skip_junk():1276] error: Giving up searching valid MPEG header after 65536 bytes of junk.\n"
     ]
    },
    {
     "name": "stdout",
     "output_type": "stream",
     "text": [
      "Processed 36/694 files\n",
      "2013/St. Lucia - September (HD).mp3\n"
     ]
    },
    {
     "name": "stderr",
     "output_type": "stream",
     "text": [
      "[src/libmpg123/parse.c:skip_junk():1276] error: Giving up searching valid MPEG header after 65536 bytes of junk.\n"
     ]
    },
    {
     "name": "stdout",
     "output_type": "stream",
     "text": [
      "Processed 37/694 files\n",
      "2013/Finale (Dub Mix).mp3\n"
     ]
    },
    {
     "name": "stderr",
     "output_type": "stream",
     "text": [
      "[src/libmpg123/parse.c:skip_junk():1276] error: Giving up searching valid MPEG header after 65536 bytes of junk.\n"
     ]
    },
    {
     "name": "stdout",
     "output_type": "stream",
     "text": [
      "Processed 38/694 files\n",
      "2013/What Love.mp3\n"
     ]
    },
    {
     "name": "stderr",
     "output_type": "stream",
     "text": [
      "[src/libmpg123/parse.c:skip_junk():1276] error: Giving up searching valid MPEG header after 65536 bytes of junk.\n"
     ]
    },
    {
     "name": "stdout",
     "output_type": "stream",
     "text": [
      "Processed 39/694 files\n",
      "2013/Big Mouth.mp3\n"
     ]
    },
    {
     "name": "stderr",
     "output_type": "stream",
     "text": [
      "[src/libmpg123/parse.c:skip_junk():1276] error: Giving up searching valid MPEG header after 65536 bytes of junk.\n"
     ]
    },
    {
     "name": "stdout",
     "output_type": "stream",
     "text": [
      "Processed 40/694 files\n",
      "2013/Animal Kingdom - Get Away With It.mp3\n"
     ]
    },
    {
     "name": "stderr",
     "output_type": "stream",
     "text": [
      "[src/libmpg123/parse.c:skip_junk():1276] error: Giving up searching valid MPEG header after 65536 bytes of junk.\n"
     ]
    },
    {
     "name": "stdout",
     "output_type": "stream",
     "text": [
      "Processed 41/694 files\n",
      "2013/Goldrushed.mp3\n",
      "Processed 42/694 files\n",
      "2013/Rock Mafia - Fly or die.mp3\n"
     ]
    },
    {
     "name": "stderr",
     "output_type": "stream",
     "text": [
      "[./src/libmpg123/getbits.h:getbits():46] error: Tried to read 10 bits with -6 available.\n",
      "[src/libmpg123/layer2.c:INT123_do_layer2():365] error: missing bits in layer II step two\n",
      "[./src/libmpg123/getbits.h:getbits():46] error: Tried to read 16 bits with -1 available.\n",
      "[./src/libmpg123/getbits.h:getbits():46] error: Tried to read 16 bits with -17 available.\n",
      "[src/libmpg123/layer2.c:INT123_do_layer2():365] error: missing bits in layer II step two\n",
      "Note: Illegal Audio-MPEG-Header 0x14312c8b at offset 29516.\n",
      "Note: Trying to resync...\n",
      "Note: Skipped 464 bytes in input.\n",
      "[src/libmpg123/parse.c:skip_junk():1276] error: Giving up searching valid MPEG header after 65536 bytes of junk.\n"
     ]
    },
    {
     "name": "stdout",
     "output_type": "stream",
     "text": [
      "Processed 43/694 files\n",
      "2013/Hail Bop.mp3\n"
     ]
    },
    {
     "name": "stderr",
     "output_type": "stream",
     "text": [
      "[src/libmpg123/parse.c:skip_junk():1276] error: Giving up searching valid MPEG header after 65536 bytes of junk.\n"
     ]
    },
    {
     "name": "stdout",
     "output_type": "stream",
     "text": [
      "Processed 44/694 files\n",
      "2013/Follow.mp3\n"
     ]
    },
    {
     "name": "stderr",
     "output_type": "stream",
     "text": [
      "[src/libmpg123/parse.c:skip_junk():1276] error: Giving up searching valid MPEG header after 65536 bytes of junk.\n"
     ]
    },
    {
     "name": "stdout",
     "output_type": "stream",
     "text": [
      "Processed 45/694 files\n",
      "2013/Tekkno Scene.mp3\n"
     ]
    },
    {
     "name": "stderr",
     "output_type": "stream",
     "text": [
      "[src/libmpg123/parse.c:skip_junk():1276] error: Giving up searching valid MPEG header after 65536 bytes of junk.\n"
     ]
    },
    {
     "name": "stdout",
     "output_type": "stream",
     "text": [
      "Processed 46/694 files\n",
      "2013/Matisyahu - Searchin.mp3\n",
      "Processed 47/694 files\n",
      "2013/Speed the Collapse.mp3\n"
     ]
    },
    {
     "name": "stderr",
     "output_type": "stream",
     "text": [
      "[src/libmpg123/layer1.c:check_balloc():30] error: Illegal bit allocation value.\n",
      "[src/libmpg123/layer1.c:INT123_do_layer1():228] error: Aborting layer I decoding after step one.\n",
      "[src/libmpg123/layer1.c:check_balloc():30] error: Illegal bit allocation value.\n",
      "[src/libmpg123/layer1.c:INT123_do_layer1():228] error: Aborting layer I decoding after step one.\n",
      "[src/libmpg123/layer1.c:I_step_two():144] error: 459 bits needed, 161 available\n",
      "[src/libmpg123/layer1.c:INT123_do_layer1():237] error: Aborting layer I decoding after step two.\n",
      "Note: Illegal Audio-MPEG-Header 0x5a4000a1 at offset 10106.\n",
      "Note: Trying to resync...\n",
      "Note: Skipped 155 bytes in input.\n",
      "[src/libmpg123/layer1.c:check_balloc():30] error: Illegal bit allocation value.\n",
      "[src/libmpg123/layer1.c:INT123_do_layer1():228] error: Aborting layer I decoding after step one.\n",
      "Note: Illegal Audio-MPEG-Header 0x88d61115 at offset 10536.\n",
      "Note: Trying to resync...\n",
      "Note: Skipped 607 bytes in input.\n",
      "[src/libmpg123/parse.c:skip_junk():1276] error: Giving up searching valid MPEG header after 65536 bytes of junk.\n"
     ]
    },
    {
     "name": "stdout",
     "output_type": "stream",
     "text": [
      "Processed 48/694 files\n",
      "2013/Band of Horses - Feud.mp3\n"
     ]
    },
    {
     "name": "stderr",
     "output_type": "stream",
     "text": [
      "[src/libmpg123/parse.c:skip_junk():1276] error: Giving up searching valid MPEG header after 65536 bytes of junk.\n"
     ]
    },
    {
     "name": "stdout",
     "output_type": "stream",
     "text": [
      "Processed 49/694 files\n",
      "2014/Runnin'.mp3\n"
     ]
    },
    {
     "name": "stderr",
     "output_type": "stream",
     "text": [
      "[src/libmpg123/layer1.c:check_balloc():30] error: Illegal bit allocation value.\n",
      "[src/libmpg123/layer1.c:INT123_do_layer1():228] error: Aborting layer I decoding after step one.\n",
      "[src/libmpg123/layer1.c:check_balloc():30] error: Illegal bit allocation value.\n",
      "[src/libmpg123/layer1.c:INT123_do_layer1():228] error: Aborting layer I decoding after step one.\n",
      "Note: Illegal Audio-MPEG-Header 0x70258fbb at offset 43065.\n",
      "Note: Trying to resync...\n",
      "Note: Skipped 1024 bytes in input.\n",
      "[src/libmpg123/parse.c:wetwork():1365] error: Giving up resync after 1024 bytes - your stream is not nice... (maybe increasing resync limit could help).\n"
     ]
    },
    {
     "name": "stdout",
     "output_type": "stream",
     "text": [
      "Processed 50/694 files\n",
      "2014/Karol Conka - Boa Noite [Official Video].mp3\n"
     ]
    },
    {
     "name": "stderr",
     "output_type": "stream",
     "text": [
      "[src/libmpg123/parse.c:skip_junk():1276] error: Giving up searching valid MPEG header after 65536 bytes of junk.\n"
     ]
    },
    {
     "name": "stdout",
     "output_type": "stream",
     "text": [
      "Processed 51/694 files\n",
      "2014/Hit It.mp3\n"
     ]
    },
    {
     "name": "stderr",
     "output_type": "stream",
     "text": [
      "[src/libmpg123/parse.c:skip_junk():1276] error: Giving up searching valid MPEG header after 65536 bytes of junk.\n"
     ]
    },
    {
     "name": "stdout",
     "output_type": "stream",
     "text": [
      "Processed 52/694 files\n",
      "2014/The City.mp3\n",
      "Processed 53/694 files\n",
      "2014/Compliment Your Soul.mp3\n"
     ]
    },
    {
     "name": "stderr",
     "output_type": "stream",
     "text": [
      "[src/libmpg123/layer1.c:check_balloc():30] error: Illegal bit allocation value.\n",
      "[src/libmpg123/layer1.c:INT123_do_layer1():228] error: Aborting layer I decoding after step one.\n",
      "[src/libmpg123/layer1.c:I_step_two():144] error: 369 bits needed, 55 available\n",
      "[src/libmpg123/layer1.c:INT123_do_layer1():237] error: Aborting layer I decoding after step two.\n",
      "Note: Illegal Audio-MPEG-Header 0x1001ca21 at offset 31802.\n",
      "Note: Trying to resync...\n",
      "Note: Skipped 9 bytes in input.\n",
      "[src/libmpg123/parse.c:skip_junk():1276] error: Giving up searching valid MPEG header after 65536 bytes of junk.\n"
     ]
    },
    {
     "name": "stdout",
     "output_type": "stream",
     "text": [
      "Processed 54/694 files\n",
      "2014/Hot.mp3\n"
     ]
    },
    {
     "name": "stderr",
     "output_type": "stream",
     "text": [
      "[src/libmpg123/parse.c:skip_junk():1276] error: Giving up searching valid MPEG header after 65536 bytes of junk.\n"
     ]
    },
    {
     "name": "stdout",
     "output_type": "stream",
     "text": [
      "Processed 55/694 files\n",
      "2014/Nine Inch Nails - Copy of A - New Single.mp3\n"
     ]
    },
    {
     "name": "stderr",
     "output_type": "stream",
     "text": [
      "[src/libmpg123/parse.c:skip_junk():1276] error: Giving up searching valid MPEG header after 65536 bytes of junk.\n"
     ]
    },
    {
     "name": "stdout",
     "output_type": "stream",
     "text": [
      "Processed 56/694 files\n",
      "2014/Hearts Like Ours.mp3\n",
      "Processed 57/694 files\n",
      "2014/Alive (David Guetta remix).mp3\n",
      "Processed 58/694 files\n",
      "2014/Olympic Ayres - Magic (Official Video).mp3\n"
     ]
    },
    {
     "name": "stderr",
     "output_type": "stream",
     "text": [
      "[src/libmpg123/layer1.c:check_balloc():30] error: Illegal bit allocation value.\n",
      "[src/libmpg123/layer1.c:INT123_do_layer1():228] error: Aborting layer I decoding after step one.\n",
      "[src/libmpg123/layer1.c:I_step_two():144] error: 450 bits needed, 338 available\n",
      "[src/libmpg123/layer1.c:INT123_do_layer1():237] error: Aborting layer I decoding after step two.\n",
      "[src/libmpg123/layer1.c:check_balloc():30] error: Illegal bit allocation value.\n",
      "[src/libmpg123/layer1.c:INT123_do_layer1():228] error: Aborting layer I decoding after step one.\n",
      "[src/libmpg123/layer1.c:check_balloc():30] error: Illegal bit allocation value.\n",
      "[src/libmpg123/layer1.c:INT123_do_layer1():228] error: Aborting layer I decoding after step one.\n",
      "Note: Illegal Audio-MPEG-Header 0x00000010 at offset 4214.\n",
      "Note: Trying to resync...\n",
      "Note: Skipped 12 bytes in input.\n",
      "[src/libmpg123/layer1.c:check_balloc():30] error: Illegal bit allocation value.\n",
      "[src/libmpg123/layer1.c:INT123_do_layer1():228] error: Aborting layer I decoding after step one.\n",
      "Note: Illegal Audio-MPEG-Header 0x00000000 at offset 4527.\n",
      "Note: Trying to resync...\n",
      "Note: Skipped 13 bytes in input.\n",
      "[src/libmpg123/parse.c:skip_junk():1276] error: Giving up searching valid MPEG header after 65536 bytes of junk.\n"
     ]
    },
    {
     "name": "stdout",
     "output_type": "stream",
     "text": [
      "Processed 59/694 files\n",
      "2014/F for You.mp3\n"
     ]
    },
    {
     "name": "stderr",
     "output_type": "stream",
     "text": [
      "[src/libmpg123/parse.c:skip_junk():1276] error: Giving up searching valid MPEG header after 65536 bytes of junk.\n"
     ]
    },
    {
     "name": "stdout",
     "output_type": "stream",
     "text": [
      "Processed 60/694 files\n",
      "2014/The Colourist - Little Games (St. Lucia Remix).mp3\n"
     ]
    },
    {
     "name": "stderr",
     "output_type": "stream",
     "text": [
      "[src/libmpg123/parse.c:skip_junk():1276] error: Giving up searching valid MPEG header after 65536 bytes of junk.\n"
     ]
    },
    {
     "name": "stdout",
     "output_type": "stream",
     "text": [
      "Processed 61/694 files\n",
      "2014/Don't Forget Who You Are.mp3\n",
      "Processed 62/694 files\n",
      "2014/On Our Way.mp3\n"
     ]
    },
    {
     "name": "stderr",
     "output_type": "stream",
     "text": [
      "[src/libmpg123/layer1.c:check_balloc():30] error: Illegal bit allocation value.\n",
      "[src/libmpg123/layer1.c:INT123_do_layer1():228] error: Aborting layer I decoding after step one.\n",
      "[src/libmpg123/layer1.c:check_balloc():30] error: Illegal bit allocation value.\n",
      "[src/libmpg123/layer1.c:INT123_do_layer1():228] error: Aborting layer I decoding after step one.\n",
      "Note: Illegal Audio-MPEG-Header 0x01800000 at offset 34251.\n",
      "Note: Trying to resync...\n",
      "Note: Skipped 9 bytes in input.\n",
      "[src/libmpg123/parse.c:skip_junk():1276] error: Giving up searching valid MPEG header after 65536 bytes of junk.\n"
     ]
    },
    {
     "name": "stdout",
     "output_type": "stream",
     "text": [
      "Processed 63/694 files\n",
      "2014/Lived A Lie.mp3\n"
     ]
    },
    {
     "name": "stderr",
     "output_type": "stream",
     "text": [
      "[src/libmpg123/parse.c:skip_junk():1276] error: Giving up searching valid MPEG header after 65536 bytes of junk.\n"
     ]
    },
    {
     "name": "stdout",
     "output_type": "stream",
     "text": [
      "Processed 64/694 files\n",
      "2014/Down Town.mp3\n"
     ]
    },
    {
     "name": "stderr",
     "output_type": "stream",
     "text": [
      "[src/libmpg123/parse.c:skip_junk():1276] error: Giving up searching valid MPEG header after 65536 bytes of junk.\n"
     ]
    },
    {
     "name": "stdout",
     "output_type": "stream",
     "text": [
      "Processed 65/694 files\n",
      "2014/Dreaming (Official Video).mp3\n"
     ]
    },
    {
     "name": "stderr",
     "output_type": "stream",
     "text": [
      "[src/libmpg123/parse.c:skip_junk():1276] error: Giving up searching valid MPEG header after 65536 bytes of junk.\n"
     ]
    },
    {
     "name": "stdout",
     "output_type": "stream",
     "text": [
      "Processed 66/694 files\n",
      "2014/CHVRCHES - WE SINK.mp3\n"
     ]
    },
    {
     "name": "stderr",
     "output_type": "stream",
     "text": [
      "[src/libmpg123/parse.c:skip_junk():1276] error: Giving up searching valid MPEG header after 65536 bytes of junk.\n"
     ]
    },
    {
     "name": "stdout",
     "output_type": "stream",
     "text": [
      "Processed 67/694 files\n",
      "2014/Funky Futurista (Video Clip).mp3\n"
     ]
    },
    {
     "name": "stderr",
     "output_type": "stream",
     "text": [
      "[src/libmpg123/layer1.c:check_balloc():30] error: Illegal bit allocation value.\n",
      "[src/libmpg123/layer1.c:INT123_do_layer1():228] error: Aborting layer I decoding after step one.\n",
      "[src/libmpg123/layer1.c:check_balloc():30] error: Illegal bit allocation value.\n",
      "[src/libmpg123/layer1.c:INT123_do_layer1():228] error: Aborting layer I decoding after step one.\n",
      "Note: Illegal Audio-MPEG-Header 0x2c007721 at offset 60061.\n",
      "Note: Trying to resync...\n",
      "Note: Skipped 359 bytes in input.\n",
      "[src/libmpg123/layer1.c:check_balloc():30] error: Illegal bit allocation value.\n",
      "[src/libmpg123/layer1.c:INT123_do_layer1():228] error: Aborting layer I decoding after step one.\n",
      "Note: Illegal Audio-MPEG-Header 0x7e9079c0 at offset 60840.\n",
      "Note: Trying to resync...\n",
      "Note: Skipped 1024 bytes in input.\n",
      "[src/libmpg123/parse.c:wetwork():1365] error: Giving up resync after 1024 bytes - your stream is not nice... (maybe increasing resync limit could help).\n"
     ]
    },
    {
     "name": "stdout",
     "output_type": "stream",
     "text": [
      "Processed 68/694 files\n",
      "2014/Purple Yellow Red and Blue.mp3\n"
     ]
    },
    {
     "name": "stderr",
     "output_type": "stream",
     "text": [
      "[src/libmpg123/parse.c:skip_junk():1276] error: Giving up searching valid MPEG header after 65536 bytes of junk.\n"
     ]
    },
    {
     "name": "stdout",
     "output_type": "stream",
     "text": [
      "Processed 69/694 files\n",
      "2014/Rock Mafia | I Am | Feat. Wyclef Jean & David Correy.mp3\n"
     ]
    },
    {
     "name": "stderr",
     "output_type": "stream",
     "text": [
      "[src/libmpg123/parse.c:skip_junk():1276] error: Giving up searching valid MPEG header after 65536 bytes of junk.\n"
     ]
    },
    {
     "name": "stdout",
     "output_type": "stream",
     "text": [
      "Processed 70/694 files\n",
      "2014/Love Me Again.mp3\n",
      "Processed 71/694 files\n",
      "2014/Marcelo D2 \"Você Diz Que O Amor Não Dói\" (Videoclipe Oficial).mp3\n"
     ]
    },
    {
     "name": "stderr",
     "output_type": "stream",
     "text": [
      "[src/libmpg123/layer1.c:check_balloc():30] error: Illegal bit allocation value.\n",
      "[src/libmpg123/layer1.c:INT123_do_layer1():228] error: Aborting layer I decoding after step one.\n",
      "[src/libmpg123/layer1.c:check_balloc():30] error: Illegal bit allocation value.\n",
      "[src/libmpg123/layer1.c:INT123_do_layer1():228] error: Aborting layer I decoding after step one.\n",
      "Note: Illegal Audio-MPEG-Header 0xa006945c at offset 17957.\n",
      "Note: Trying to resync...\n",
      "Note: Skipped 133 bytes in input.\n",
      "[src/libmpg123/layer1.c:check_balloc():30] error: Illegal bit allocation value.\n",
      "[src/libmpg123/layer1.c:INT123_do_layer1():228] error: Aborting layer I decoding after step one.\n",
      "Note: Illegal Audio-MPEG-Header 0x776a5085 at offset 18438.\n",
      "Note: Trying to resync...\n",
      "Note: Skipped 165 bytes in input.\n",
      "[src/libmpg123/parse.c:skip_junk():1276] error: Giving up searching valid MPEG header after 65536 bytes of junk.\n"
     ]
    },
    {
     "name": "stdout",
     "output_type": "stream",
     "text": [
      "Processed 72/694 files\n",
      "2014/The Chain Gang Of 1974 - Miko [Official Lyric Video].mp3\n"
     ]
    },
    {
     "name": "stderr",
     "output_type": "stream",
     "text": [
      "[src/libmpg123/parse.c:skip_junk():1276] error: Giving up searching valid MPEG header after 65536 bytes of junk.\n"
     ]
    },
    {
     "name": "stdout",
     "output_type": "stream",
     "text": [
      "Processed 73/694 files\n",
      "2014/Wretch 32 - 24 Hours (Official Audio).mp3\n"
     ]
    },
    {
     "name": "stderr",
     "output_type": "stream",
     "text": [
      "[src/libmpg123/parse.c:skip_junk():1276] error: Giving up searching valid MPEG header after 65536 bytes of junk.\n"
     ]
    },
    {
     "name": "stdout",
     "output_type": "stream",
     "text": [
      "Processed 74/694 files\n",
      "2014/T.U.B.E..mp3\n"
     ]
    },
    {
     "name": "stderr",
     "output_type": "stream",
     "text": [
      "[src/libmpg123/parse.c:skip_junk():1276] error: Giving up searching valid MPEG header after 65536 bytes of junk.\n"
     ]
    },
    {
     "name": "stdout",
     "output_type": "stream",
     "text": [
      "Processed 75/694 files\n",
      "2014/Marathon.mp3\n"
     ]
    },
    {
     "name": "stderr",
     "output_type": "stream",
     "text": [
      "[src/libmpg123/parse.c:skip_junk():1276] error: Giving up searching valid MPEG header after 65536 bytes of junk.\n"
     ]
    },
    {
     "name": "stdout",
     "output_type": "stream",
     "text": [
      "Processed 76/694 files\n",
      "2014/Bloc Party - Ratchet (Official Music Video).mp3\n"
     ]
    },
    {
     "name": "stderr",
     "output_type": "stream",
     "text": [
      "[src/libmpg123/parse.c:skip_junk():1276] error: Giving up searching valid MPEG header after 65536 bytes of junk.\n"
     ]
    },
    {
     "name": "stdout",
     "output_type": "stream",
     "text": [
      "Processed 77/694 files\n",
      "2014/Love Natural.mp3\n",
      "Processed 78/694 files\n",
      "2014/Mechanical.mp3\n",
      "Processed 79/694 files\n",
      "2014/Here- Robert DeLong.mp3\n"
     ]
    },
    {
     "name": "stderr",
     "output_type": "stream",
     "text": [
      "[src/libmpg123/layer1.c:check_balloc():30] error: Illegal bit allocation value.\n",
      "[src/libmpg123/layer1.c:INT123_do_layer1():228] error: Aborting layer I decoding after step one.\n",
      "[src/libmpg123/layer1.c:check_balloc():30] error: Illegal bit allocation value.\n",
      "[src/libmpg123/layer1.c:INT123_do_layer1():228] error: Aborting layer I decoding after step one.\n",
      "Note: Illegal Audio-MPEG-Header 0x334e77bb at offset 69604.\n",
      "Note: Trying to resync...\n",
      "Note: Skipped 32 bytes in input.\n",
      "[src/libmpg123/layer1.c:check_balloc():30] error: Illegal bit allocation value.\n",
      "[src/libmpg123/layer1.c:INT123_do_layer1():228] error: Aborting layer I decoding after step one.\n",
      "[src/libmpg123/layer1.c:check_balloc():30] error: Illegal bit allocation value.\n",
      "[src/libmpg123/layer1.c:INT123_do_layer1():228] error: Aborting layer I decoding after step one.\n",
      "Note: Illegal Audio-MPEG-Header 0x212acfff at offset 14290.\n",
      "Note: Trying to resync...\n",
      "Note: Skipped 5 bytes in input.\n",
      "[src/libmpg123/parse.c:skip_junk():1276] error: Giving up searching valid MPEG header after 65536 bytes of junk.\n"
     ]
    },
    {
     "name": "stdout",
     "output_type": "stream",
     "text": [
      "Processed 80/694 files\n",
      "2014/Foals - My Number (Trophy Wife remix).mp3\n"
     ]
    },
    {
     "name": "stderr",
     "output_type": "stream",
     "text": [
      "[src/libmpg123/parse.c:skip_junk():1276] error: Giving up searching valid MPEG header after 65536 bytes of junk.\n"
     ]
    },
    {
     "name": "stdout",
     "output_type": "stream",
     "text": [
      "Processed 81/694 files\n",
      "2014/I'm with You.mp3\n",
      "Processed 82/694 files\n",
      "2022/Feet Don't Fail Me Now - Joy Crookes (FIFA 22 Official Soundtrack).mp3\n"
     ]
    },
    {
     "name": "stderr",
     "output_type": "stream",
     "text": [
      "[src/libmpg123/layer1.c:check_balloc():30] error: Illegal bit allocation value.\n",
      "[src/libmpg123/layer1.c:INT123_do_layer1():228] error: Aborting layer I decoding after step one.\n",
      "Note: Illegal Audio-MPEG-Header 0x4c2ab59d at offset 11746.\n",
      "Note: Trying to resync...\n",
      "Note: Skipped 344 bytes in input.\n",
      "[src/libmpg123/layer1.c:check_balloc():30] error: Illegal bit allocation value.\n",
      "[src/libmpg123/layer1.c:INT123_do_layer1():228] error: Aborting layer I decoding after step one.\n",
      "Note: Illegal Audio-MPEG-Header 0xd5211acf at offset 12366.\n",
      "Note: Trying to resync...\n",
      "Note: Skipped 6 bytes in input.\n",
      "[src/libmpg123/layer1.c:check_balloc():30] error: Illegal bit allocation value.\n",
      "[src/libmpg123/layer1.c:INT123_do_layer1():228] error: Aborting layer I decoding after step one.\n",
      "Note: Illegal Audio-MPEG-Header 0x6c5715fe at offset 12788.\n",
      "Note: Trying to resync...\n",
      "Note: Skipped 115 bytes in input.\n",
      "[src/libmpg123/parse.c:skip_junk():1276] error: Giving up searching valid MPEG header after 65536 bytes of junk.\n"
     ]
    },
    {
     "name": "stdout",
     "output_type": "stream",
     "text": [
      "Processed 83/694 files\n",
      "2022/Oliver Twist - ArrDee (FIFA 22 Official Soundtrack).mp3\n"
     ]
    },
    {
     "name": "stderr",
     "output_type": "stream",
     "text": [
      "Note: Illegal Audio-MPEG-Header 0xb5197752 at offset 29345.\n",
      "Note: Trying to resync...\n",
      "Note: Skipped 1024 bytes in input.\n",
      "[src/libmpg123/parse.c:wetwork():1365] error: Giving up resync after 1024 bytes - your stream is not nice... (maybe increasing resync limit could help).\n"
     ]
    },
    {
     "name": "stdout",
     "output_type": "stream",
     "text": [
      "Processed 84/694 files\n",
      "2022/Tunnel - Polo & Pan (ft. Channel Tres) (FIFA 22 Official Soundtrack).mp3\n"
     ]
    },
    {
     "name": "stderr",
     "output_type": "stream",
     "text": [
      "[src/libmpg123/parse.c:skip_junk():1276] error: Giving up searching valid MPEG header after 65536 bytes of junk.\n"
     ]
    },
    {
     "name": "stdout",
     "output_type": "stream",
     "text": [
      "Processed 85/694 files\n",
      "2022/Tenfold - Harvey Causon (FIFA 22 Official Soundtrack).mp3\n"
     ]
    },
    {
     "name": "stderr",
     "output_type": "stream",
     "text": [
      "[src/libmpg123/parse.c:skip_junk():1276] error: Giving up searching valid MPEG header after 65536 bytes of junk.\n"
     ]
    },
    {
     "name": "stdout",
     "output_type": "stream",
     "text": [
      "Processed 86/694 files\n",
      "2022/Lifetime - Swedish House Mafia (ft. Ty Dolla $ign & 070 Shake) (FIFA 22 Official Soundtrack).mp3\n"
     ]
    },
    {
     "name": "stderr",
     "output_type": "stream",
     "text": [
      "[src/libmpg123/parse.c:skip_junk():1276] error: Giving up searching valid MPEG header after 65536 bytes of junk.\n"
     ]
    },
    {
     "name": "stdout",
     "output_type": "stream",
     "text": [
      "Processed 87/694 files\n",
      "2022/Landline - Binki (FIFA 22 Official Soundtrack).mp3\n"
     ]
    },
    {
     "name": "stderr",
     "output_type": "stream",
     "text": [
      "[src/libmpg123/parse.c:skip_junk():1276] error: Giving up searching valid MPEG header after 65536 bytes of junk.\n"
     ]
    },
    {
     "name": "stdout",
     "output_type": "stream",
     "text": [
      "Processed 88/694 files\n",
      "2022/skeletons - easy life (FIFA 22 Official Soundtrack).mp3\n"
     ]
    },
    {
     "name": "stderr",
     "output_type": "stream",
     "text": [
      "[src/libmpg123/parse.c:skip_junk():1276] error: Giving up searching valid MPEG header after 65536 bytes of junk.\n"
     ]
    },
    {
     "name": "stdout",
     "output_type": "stream",
     "text": [
      "Processed 89/694 files\n",
      "2022/Eyes on the Prize - Che Lingo , Tamaraebi (FIFA 22 Official Soundtrack).mp3\n"
     ]
    },
    {
     "name": "stderr",
     "output_type": "stream",
     "text": [
      "[src/libmpg123/parse.c:skip_junk():1276] error: Giving up searching valid MPEG header after 65536 bytes of junk.\n"
     ]
    },
    {
     "name": "stdout",
     "output_type": "stream",
     "text": [
      "Processed 90/694 files\n",
      "2022/Never Come Back - Caribou (FIFA 22 Official Volta Soundtrack).mp3\n"
     ]
    },
    {
     "name": "stderr",
     "output_type": "stream",
     "text": [
      "[src/libmpg123/parse.c:skip_junk():1276] error: Giving up searching valid MPEG header after 65536 bytes of junk.\n"
     ]
    },
    {
     "name": "stdout",
     "output_type": "stream",
     "text": [
      "Processed 91/694 files\n",
      "2022/BEN AFFLECK - seeyousoon (FIFA 22 Official Volta Soundtrack).mp3\n"
     ]
    },
    {
     "name": "stderr",
     "output_type": "stream",
     "text": [
      "[src/libmpg123/parse.c:skip_junk():1276] error: Giving up searching valid MPEG header after 65536 bytes of junk.\n"
     ]
    },
    {
     "name": "stdout",
     "output_type": "stream",
     "text": [
      "Processed 92/694 files\n",
      "2022/Let's Get Down - Firebeatz (FIFA 22 Official Volta Soundtrack).mp3\n"
     ]
    },
    {
     "name": "stderr",
     "output_type": "stream",
     "text": [
      "[src/libmpg123/parse.c:skip_junk():1276] error: Giving up searching valid MPEG header after 65536 bytes of junk.\n"
     ]
    },
    {
     "name": "stdout",
     "output_type": "stream",
     "text": [
      "Processed 93/694 files\n",
      "2022/High Way - Shango SK (FIFA 22 Official Soundtrack).mp3\n"
     ]
    },
    {
     "name": "stderr",
     "output_type": "stream",
     "text": [
      "[src/libmpg123/parse.c:skip_junk():1276] error: Giving up searching valid MPEG header after 65536 bytes of junk.\n"
     ]
    },
    {
     "name": "stdout",
     "output_type": "stream",
     "text": [
      "Processed 94/694 files\n",
      "2022/Supercut -  Lorde (ft. Run the Jewels) (El-P Remix) (FIFA 22 Official Soundtrack).mp3\n",
      "Processed 95/694 files\n",
      "2022/Fear No Man - Little Simz (FIFA 22 Official Soundtrack).mp3\n"
     ]
    },
    {
     "name": "stderr",
     "output_type": "stream",
     "text": [
      "[src/libmpg123/layer1.c:check_balloc():30] error: Illegal bit allocation value.\n",
      "[src/libmpg123/layer1.c:INT123_do_layer1():228] error: Aborting layer I decoding after step one.\n",
      "[src/libmpg123/layer1.c:check_balloc():30] error: Illegal bit allocation value.\n",
      "[src/libmpg123/layer1.c:INT123_do_layer1():228] error: Aborting layer I decoding after step one.\n",
      "Note: Illegal Audio-MPEG-Header 0x31080000 at offset 23094.\n",
      "Note: Trying to resync...\n",
      "Note: Skipped 612 bytes in input.\n",
      "[src/libmpg123/layer1.c:check_balloc():30] error: Illegal bit allocation value.\n",
      "[src/libmpg123/layer1.c:INT123_do_layer1():228] error: Aborting layer I decoding after step one.\n",
      "Note: Illegal Audio-MPEG-Header 0x76d35a1a at offset 24054.\n",
      "Note: Trying to resync...\n",
      "Note: Skipped 819 bytes in input.\n",
      "[src/libmpg123/parse.c:skip_junk():1276] error: Giving up searching valid MPEG header after 65536 bytes of junk.\n"
     ]
    },
    {
     "name": "stdout",
     "output_type": "stream",
     "text": [
      "Processed 96/694 files\n",
      "2022/I Don't Wanna Talk (I Just Wanna Dance) - Glass Animals (FIFA 22 Official Soundtrack).mp3\n"
     ]
    },
    {
     "name": "stderr",
     "output_type": "stream",
     "text": [
      "[src/libmpg123/parse.c:skip_junk():1276] error: Giving up searching valid MPEG header after 65536 bytes of junk.\n"
     ]
    },
    {
     "name": "stdout",
     "output_type": "stream",
     "text": [
      "Processed 97/694 files\n",
      "2022/Young Dumb - NOISY (FIFA 22 Official Trailer Soundtrack).mp3\n",
      "Processed 98/694 files\n",
      "2022/Mixer - Amber Mark (Preditah Remix) (FIFA 22 Official Volta Soundtrack).mp3\n"
     ]
    },
    {
     "name": "stderr",
     "output_type": "stream",
     "text": [
      "[src/libmpg123/layer1.c:check_balloc():30] error: Illegal bit allocation value.\n",
      "[src/libmpg123/layer1.c:INT123_do_layer1():228] error: Aborting layer I decoding after step one.\n",
      "[src/libmpg123/layer1.c:check_balloc():30] error: Illegal bit allocation value.\n",
      "[src/libmpg123/layer1.c:INT123_do_layer1():228] error: Aborting layer I decoding after step one.\n",
      "Note: Illegal Audio-MPEG-Header 0x428e15c4 at offset 10800.\n",
      "Note: Trying to resync...\n",
      "Note: Skipped 299 bytes in input.\n",
      "[src/libmpg123/layer1.c:check_balloc():30] error: Illegal bit allocation value.\n",
      "[src/libmpg123/layer1.c:INT123_do_layer1():228] error: Aborting layer I decoding after step one.\n",
      "[src/libmpg123/layer1.c:check_balloc():30] error: Illegal bit allocation value.\n",
      "[src/libmpg123/layer1.c:INT123_do_layer1():228] error: Aborting layer I decoding after step one.\n",
      "Note: Illegal Audio-MPEG-Header 0x0d6c08d8 at offset 65867.\n",
      "Note: Trying to resync...\n",
      "Note: Skipped 1024 bytes in input.\n",
      "[src/libmpg123/parse.c:wetwork():1365] error: Giving up resync after 1024 bytes - your stream is not nice... (maybe increasing resync limit could help).\n"
     ]
    },
    {
     "name": "stdout",
     "output_type": "stream",
     "text": [
      "Processed 99/694 files\n",
      "2022/Vibes on Tap - AC Slater, Darkzy & P Money (FIFA 22 Official Volta Soundtrack).mp3\n"
     ]
    },
    {
     "name": "stderr",
     "output_type": "stream",
     "text": [
      "[src/libmpg123/parse.c:skip_junk():1276] error: Giving up searching valid MPEG header after 65536 bytes of junk.\n"
     ]
    },
    {
     "name": "stdout",
     "output_type": "stream",
     "text": [
      "Processed 100/694 files\n",
      "2022/Good Girls - CHVRCHES (FIFA 22 Official Soundtrack).mp3\n"
     ]
    },
    {
     "name": "stderr",
     "output_type": "stream",
     "text": [
      "[src/libmpg123/parse.c:skip_junk():1276] error: Giving up searching valid MPEG header after 65536 bytes of junk.\n"
     ]
    },
    {
     "name": "stdout",
     "output_type": "stream",
     "text": [
      "Processed 101/694 files\n",
      "2022/West Ten - AJ Tracey & Mabel (FIFA 22 Official Volta Soundtrack).mp3\n"
     ]
    },
    {
     "name": "stderr",
     "output_type": "stream",
     "text": [
      "[src/libmpg123/parse.c:skip_junk():1276] error: Giving up searching valid MPEG header after 65536 bytes of junk.\n"
     ]
    },
    {
     "name": "stdout",
     "output_type": "stream",
     "text": [
      "Processed 102/694 files\n",
      "2022/247 - Noisy (FIFA 22 Official Volta Soundtrack).mp3\n"
     ]
    },
    {
     "name": "stderr",
     "output_type": "stream",
     "text": [
      "[src/libmpg123/parse.c:skip_junk():1276] error: Giving up searching valid MPEG header after 65536 bytes of junk.\n"
     ]
    },
    {
     "name": "stdout",
     "output_type": "stream",
     "text": [
      "Processed 103/694 files\n",
      "2022/I Want - ENNY (FIFA 22 Official Soundtrack).mp3\n"
     ]
    },
    {
     "name": "stderr",
     "output_type": "stream",
     "text": [
      "[src/libmpg123/parse.c:skip_junk():1276] error: Giving up searching valid MPEG header after 65536 bytes of junk.\n"
     ]
    },
    {
     "name": "stdout",
     "output_type": "stream",
     "text": [
      "Processed 104/694 files\n",
      "2022/The Mission - Bakar (FIFA 22 Official Soundtrack).mp3\n"
     ]
    },
    {
     "name": "stderr",
     "output_type": "stream",
     "text": [
      "[src/libmpg123/parse.c:skip_junk():1276] error: Giving up searching valid MPEG header after 65536 bytes of junk.\n"
     ]
    },
    {
     "name": "stdout",
     "output_type": "stream",
     "text": [
      "Processed 105/694 files\n",
      "2022/Demba - TSHA (ft. Trio Da Kali) (FIFA 22 Official Soundtrack).mp3\n"
     ]
    },
    {
     "name": "stderr",
     "output_type": "stream",
     "text": [
      "[src/libmpg123/parse.c:skip_junk():1276] error: Giving up searching valid MPEG header after 65536 bytes of junk.\n"
     ]
    },
    {
     "name": "stdout",
     "output_type": "stream",
     "text": [
      "Processed 106/694 files\n",
      "2022/A Teen - V.I.C (FIFA 22 Official Soundtrack).mp3\n"
     ]
    },
    {
     "name": "stderr",
     "output_type": "stream",
     "text": [
      "[src/libmpg123/parse.c:skip_junk():1276] error: Giving up searching valid MPEG header after 65536 bytes of junk.\n"
     ]
    },
    {
     "name": "stdout",
     "output_type": "stream",
     "text": [
      "Processed 107/694 files\n",
      "2022/Dance the Night Away - DRS (ft. Mozey) (FIFA 22 Official Volta Soundtrack).mp3\n",
      "Processed 108/694 files\n",
      "2022/fuego - Musti & Jelassi (ft. GABIFUEGO) (FIFA 22 Official Soundtrack).mp3\n"
     ]
    },
    {
     "name": "stderr",
     "output_type": "stream",
     "text": [
      "[src/libmpg123/layer1.c:check_balloc():30] error: Illegal bit allocation value.\n",
      "[src/libmpg123/layer1.c:INT123_do_layer1():228] error: Aborting layer I decoding after step one.\n",
      "Note: Illegal Audio-MPEG-Header 0xe4677461 at offset 15386.\n",
      "Note: Trying to resync...\n",
      "Note: Skipped 456 bytes in input.\n",
      "[src/libmpg123/parse.c:skip_junk():1276] error: Giving up searching valid MPEG header after 65536 bytes of junk.\n"
     ]
    },
    {
     "name": "stdout",
     "output_type": "stream",
     "text": [
      "Processed 109/694 files\n",
      "2022/Free my People - Greentea Peng (ft. Simmy & Kid Cruise) (FIFA 22 Official Soundtrack).mp3\n"
     ]
    },
    {
     "name": "stderr",
     "output_type": "stream",
     "text": [
      "[src/libmpg123/parse.c:skip_junk():1276] error: Giving up searching valid MPEG header after 65536 bytes of junk.\n"
     ]
    },
    {
     "name": "stdout",
     "output_type": "stream",
     "text": [
      "Processed 110/694 files\n",
      "2022/Only One Man - Moodoïd (ft. Melody's Echo Chamber) (FIFA 22 Official Soundtrack).mp3\n"
     ]
    },
    {
     "name": "stderr",
     "output_type": "stream",
     "text": [
      "[src/libmpg123/layer1.c:check_balloc():30] error: Illegal bit allocation value.\n",
      "[src/libmpg123/layer1.c:INT123_do_layer1():228] error: Aborting layer I decoding after step one.\n",
      "[src/libmpg123/layer1.c:check_balloc():30] error: Illegal bit allocation value.\n",
      "[src/libmpg123/layer1.c:INT123_do_layer1():228] error: Aborting layer I decoding after step one.\n",
      "Note: Illegal Audio-MPEG-Header 0xa2ad3885 at offset 35644.\n",
      "Note: Trying to resync...\n",
      "Note: Skipped 245 bytes in input.\n",
      "[src/libmpg123/layer1.c:check_balloc():30] error: Illegal bit allocation value.\n",
      "[src/libmpg123/layer1.c:INT123_do_layer1():228] error: Aborting layer I decoding after step one.\n",
      "Note: Illegal Audio-MPEG-Header 0x0c3b4d4c at offset 36341.\n",
      "Note: Trying to resync...\n",
      "Note: Skipped 1024 bytes in input.\n",
      "[src/libmpg123/parse.c:wetwork():1365] error: Giving up resync after 1024 bytes - your stream is not nice... (maybe increasing resync limit could help).\n"
     ]
    },
    {
     "name": "stdout",
     "output_type": "stream",
     "text": [
      "Processed 111/694 files\n",
      "2022/Gliding' - Pa Salieu (ft. slowthai) (FIFA 22 Official Soundtrack).mp3\n",
      "Processed 112/694 files\n",
      "2022/Before The Morning Comes - sir Was (FIFA 22 Official Soundtrack).mp3\n",
      "Processed 113/694 files\n",
      "2022/The Hill - Hendrix Harris (FIFA 22 Official Soundtrack).mp3\n"
     ]
    },
    {
     "name": "stderr",
     "output_type": "stream",
     "text": [
      "Note: Illegal Audio-MPEG-Header 0xdcb6172b at offset 44249.\n",
      "Note: Trying to resync...\n",
      "Note: Skipped 258 bytes in input.\n",
      "[src/libmpg123/layer1.c:check_balloc():30] error: Illegal bit allocation value.\n",
      "[src/libmpg123/layer1.c:INT123_do_layer1():228] error: Aborting layer I decoding after step one.\n",
      "[src/libmpg123/layer1.c:check_balloc():30] error: Illegal bit allocation value.\n",
      "[src/libmpg123/layer1.c:INT123_do_layer1():228] error: Aborting layer I decoding after step one.\n",
      "Note: Illegal Audio-MPEG-Header 0x0441c40c at offset 6653.\n",
      "Note: Trying to resync...\n",
      "Note: Skipped 322 bytes in input.\n",
      "[src/libmpg123/layer1.c:check_balloc():30] error: Illegal bit allocation value.\n",
      "[src/libmpg123/layer1.c:INT123_do_layer1():228] error: Aborting layer I decoding after step one.\n",
      "Note: Illegal Audio-MPEG-Header 0x9c42f0d2 at offset 7576.\n",
      "Note: Trying to resync...\n",
      "Note: Skipped 293 bytes in input.\n",
      "[src/libmpg123/layer1.c:check_balloc():30] error: Illegal bit allocation value.\n",
      "[src/libmpg123/layer1.c:INT123_do_layer1():228] error: Aborting layer I decoding after step one.\n",
      "Note: Illegal Audio-MPEG-Header 0xed385254 at offset 8357.\n",
      "Note: Trying to resync...\n",
      "Note: Skipped 79 bytes in input.\n",
      "[src/libmpg123/parse.c:skip_junk():1276] error: Giving up searching valid MPEG header after 65536 bytes of junk.\n"
     ]
    },
    {
     "name": "stdout",
     "output_type": "stream",
     "text": [
      "Processed 114/694 files\n",
      "2022/Baobá - Caio Prado (FIFA 22 Official Soundtrack).mp3\n"
     ]
    },
    {
     "name": "stderr",
     "output_type": "stream",
     "text": [
      "[src/libmpg123/parse.c:skip_junk():1276] error: Giving up searching valid MPEG header after 65536 bytes of junk.\n"
     ]
    },
    {
     "name": "stdout",
     "output_type": "stream",
     "text": [
      "Processed 115/694 files\n",
      "2022/Trepidation (Single Edit) - Feiertag & Msafiri Zawose (FIFA 22 Official Soundtrack).mp3\n",
      "Processed 116/694 files\n",
      "2022/Fallin' Apart - Young Franco (ft. Denzel Curry & Pell) (FIFA 22 Official Soundtrack).mp3\n"
     ]
    },
    {
     "name": "stderr",
     "output_type": "stream",
     "text": [
      "[src/libmpg123/layer1.c:check_balloc():30] error: Illegal bit allocation value.\n",
      "[src/libmpg123/layer1.c:INT123_do_layer1():228] error: Aborting layer I decoding after step one.\n",
      "[src/libmpg123/layer1.c:check_balloc():30] error: Illegal bit allocation value.\n",
      "[src/libmpg123/layer1.c:INT123_do_layer1():228] error: Aborting layer I decoding after step one.\n",
      "Note: Illegal Audio-MPEG-Header 0x160086f8 at offset 42953.\n",
      "Note: Trying to resync...\n",
      "Note: Skipped 164 bytes in input.\n",
      "[src/libmpg123/parse.c:skip_junk():1276] error: Giving up searching valid MPEG header after 65536 bytes of junk.\n"
     ]
    },
    {
     "name": "stdout",
     "output_type": "stream",
     "text": [
      "Processed 117/694 files\n",
      "2022/Do You Remember The Times - ISLAND (FIFA 22 Official Soundtrack).mp3\n"
     ]
    },
    {
     "name": "stderr",
     "output_type": "stream",
     "text": [
      "[src/libmpg123/parse.c:skip_junk():1276] error: Giving up searching valid MPEG header after 65536 bytes of junk.\n"
     ]
    },
    {
     "name": "stdout",
     "output_type": "stream",
     "text": [
      "Processed 118/694 files\n",
      "2022/Feels Like Summer - Public Order (FIFA 22 Official Soundtrack).mp3\n",
      "Processed 119/694 files\n",
      "2022/Yesterday - Loyle Carner (FIFA 22 Official Soundtrack).mp3\n"
     ]
    },
    {
     "name": "stderr",
     "output_type": "stream",
     "text": [
      "[src/libmpg123/layer1.c:check_balloc():30] error: Illegal bit allocation value.\n",
      "[src/libmpg123/layer1.c:INT123_do_layer1():228] error: Aborting layer I decoding after step one.\n",
      "[src/libmpg123/layer1.c:check_balloc():30] error: Illegal bit allocation value.\n",
      "[src/libmpg123/layer1.c:INT123_do_layer1():228] error: Aborting layer I decoding after step one.\n",
      "Note: Illegal Audio-MPEG-Header 0xad00d1a0 at offset 39496.\n",
      "Note: Trying to resync...\n",
      "Note: Skipped 265 bytes in input.\n",
      "[src/libmpg123/layer1.c:check_balloc():30] error: Illegal bit allocation value.\n",
      "[src/libmpg123/layer1.c:INT123_do_layer1():228] error: Aborting layer I decoding after step one.\n",
      "Note: Illegal Audio-MPEG-Header 0x208d59cf at offset 40035.\n",
      "Note: Trying to resync...\n",
      "Note: Skipped 279 bytes in input.\n",
      "[src/libmpg123/parse.c:skip_junk():1276] error: Giving up searching valid MPEG header after 65536 bytes of junk.\n"
     ]
    },
    {
     "name": "stdout",
     "output_type": "stream",
     "text": [
      "Processed 120/694 files\n",
      "2022/Summer Night - Garden City Movement & Lola Marsh (FIFA 22 Official Soundtrack).mp3\n"
     ]
    },
    {
     "name": "stderr",
     "output_type": "stream",
     "text": [
      "[src/libmpg123/parse.c:skip_junk():1276] error: Giving up searching valid MPEG header after 65536 bytes of junk.\n"
     ]
    },
    {
     "name": "stdout",
     "output_type": "stream",
     "text": [
      "Processed 121/694 files\n",
      "2022/You Shaped Hole - Baby Queen (FIFA 22 Official Soundtrack).mp3\n"
     ]
    },
    {
     "name": "stderr",
     "output_type": "stream",
     "text": [
      "[src/libmpg123/parse.c:skip_junk():1276] error: Giving up searching valid MPEG header after 65536 bytes of junk.\n"
     ]
    },
    {
     "name": "stdout",
     "output_type": "stream",
     "text": [
      "Processed 122/694 files\n",
      "2022/Seguimos - Morad (FIFA 22 Official Soundtrack).mp3\n"
     ]
    },
    {
     "name": "stderr",
     "output_type": "stream",
     "text": [
      "[src/libmpg123/parse.c:skip_junk():1276] error: Giving up searching valid MPEG header after 65536 bytes of junk.\n"
     ]
    },
    {
     "name": "stdout",
     "output_type": "stream",
     "text": [
      "Processed 123/694 files\n",
      "2022/Well Rested - Kero Kero Bonito (FIFA 22 Official Soundtrack).mp3\n"
     ]
    },
    {
     "name": "stderr",
     "output_type": "stream",
     "text": [
      "[src/libmpg123/parse.c:skip_junk():1276] error: Giving up searching valid MPEG header after 65536 bytes of junk.\n"
     ]
    },
    {
     "name": "stdout",
     "output_type": "stream",
     "text": [
      "Processed 124/694 files\n",
      "2022/Watch Me - Statik Selektah (ft. Joey Bada$$) (FIFA 22 Official Volta Soundtrack).mp3\n",
      "Processed 125/694 files\n",
      "2022/Tung Tied - LoveLeo (ft. Rico Nasty) (FIFA 22 Official Volta Soundtrack).mp3\n"
     ]
    },
    {
     "name": "stderr",
     "output_type": "stream",
     "text": [
      "Note: Illegal Audio-MPEG-Header 0x9388bb91 at offset 66916.\n",
      "Note: Trying to resync...\n",
      "Note: Skipped 160 bytes in input.\n",
      "[src/libmpg123/parse.c:skip_junk():1276] error: Giving up searching valid MPEG header after 65536 bytes of junk.\n"
     ]
    },
    {
     "name": "stdout",
     "output_type": "stream",
     "text": [
      "ERRROROROOROROR\n",
      "2022/The Darkness That You Fear - The Chemical Brothers (FIFA 22 Official Soundtrack).mp3\n",
      "Processed 126/694 files\n",
      "2022/Inner Light - Elderbrook, Bob Moses (FIFA 22 Official Soundtrack).mp3\n",
      "Processed 127/694 files\n",
      "2022/War Outside - Kojey Radical (ft. Lex Amor) (FIFA 22 Official Soundtrack).mp3\n"
     ]
    },
    {
     "name": "stderr",
     "output_type": "stream",
     "text": [
      "[src/libmpg123/layer1.c:check_balloc():30] error: Illegal bit allocation value.\n",
      "[src/libmpg123/layer1.c:INT123_do_layer1():228] error: Aborting layer I decoding after step one.\n",
      "[src/libmpg123/layer1.c:check_balloc():30] error: Illegal bit allocation value.\n",
      "[src/libmpg123/layer1.c:INT123_do_layer1():228] error: Aborting layer I decoding after step one.\n",
      "Note: Illegal Audio-MPEG-Header 0x1b574a09 at offset 36882.\n",
      "Note: Trying to resync...\n",
      "Note: Skipped 13 bytes in input.\n",
      "[src/libmpg123/layer1.c:I_step_two():144] error: 529 bits needed, 434 available\n",
      "[src/libmpg123/layer1.c:INT123_do_layer1():237] error: Aborting layer I decoding after step two.\n",
      "[src/libmpg123/layer1.c:check_balloc():30] error: Illegal bit allocation value.\n",
      "[src/libmpg123/layer1.c:INT123_do_layer1():228] error: Aborting layer I decoding after step one.\n",
      "Note: Illegal Audio-MPEG-Header 0x7ab202fd at offset 32630.\n",
      "Note: Trying to resync...\n",
      "Note: Skipped 468 bytes in input.\n",
      "[src/libmpg123/parse.c:skip_junk():1276] error: Giving up searching valid MPEG header after 65536 bytes of junk.\n"
     ]
    },
    {
     "name": "stdout",
     "output_type": "stream",
     "text": [
      "Processed 128/694 files\n",
      "2022/Motion  - Luke Hemmings (FIFA 22 Official Soundtrack).mp3\n"
     ]
    },
    {
     "name": "stderr",
     "output_type": "stream",
     "text": [
      "[src/libmpg123/parse.c:skip_junk():1276] error: Giving up searching valid MPEG header after 65536 bytes of junk.\n"
     ]
    },
    {
     "name": "stdout",
     "output_type": "stream",
     "text": [
      "Processed 129/694 files\n",
      "2022/Talk About It - Jungle (FIFA 22 Official Soundtrack).mp3\n"
     ]
    },
    {
     "name": "stderr",
     "output_type": "stream",
     "text": [
      "[src/libmpg123/parse.c:skip_junk():1276] error: Giving up searching valid MPEG header after 65536 bytes of junk.\n"
     ]
    },
    {
     "name": "stdout",
     "output_type": "stream",
     "text": [
      "ERRROROROOROROR\n",
      "2022/Apartment 402 - girl in red (FIFA 22 Official Soundtrack).mp3\n",
      "ERRROROROOROROR\n",
      "2022/Get You Down - Sam Fender (FIFA 22 Official Soundtrack).mp3\n"
     ]
    },
    {
     "name": "stderr",
     "output_type": "stream",
     "text": [
      "[src/libmpg123/parse.c:skip_junk():1276] error: Giving up searching valid MPEG header after 65536 bytes of junk.\n",
      "[src/libmpg123/parse.c:skip_junk():1276] error: Giving up searching valid MPEG header after 65536 bytes of junk.\n"
     ]
    },
    {
     "name": "stdout",
     "output_type": "stream",
     "text": [
      "ERRROROROOROROR\n",
      "2022/seaside_demo - SEB (FIFA 22 Official Soundtrack).mp3\n",
      "ERRROROROOROROR\n",
      "2022/Act Up - Terry Presume (FIFA 22 Official Soundtrack).mp3\n"
     ]
    },
    {
     "name": "stderr",
     "output_type": "stream",
     "text": [
      "[src/libmpg123/parse.c:skip_junk():1276] error: Giving up searching valid MPEG header after 65536 bytes of junk.\n",
      "[src/libmpg123/parse.c:skip_junk():1276] error: Giving up searching valid MPEG header after 65536 bytes of junk.\n"
     ]
    },
    {
     "name": "stdout",
     "output_type": "stream",
     "text": [
      "ERRROROROOROROR\n",
      "2022/Love Love Love - My Morning Jacket (FIFA 22 Official Soundtrack).mp3\n",
      "ERRROROROOROROR\n",
      "2022/Mad - Hope Tala (FIFA 22 Official Soundtrack).mp3\n"
     ]
    },
    {
     "name": "stderr",
     "output_type": "stream",
     "text": [
      "[src/libmpg123/parse.c:skip_junk():1276] error: Giving up searching valid MPEG header after 65536 bytes of junk.\n",
      "[src/libmpg123/parse.c:skip_junk():1276] error: Giving up searching valid MPEG header after 65536 bytes of junk.\n"
     ]
    },
    {
     "name": "stdout",
     "output_type": "stream",
     "text": [
      "ERRROROROOROROR\n",
      "2022/Followers - AREA21, Martin Garrix, Maejor (FIFA 22 Official Soundtrack).mp3\n"
     ]
    },
    {
     "name": "stderr",
     "output_type": "stream",
     "text": [
      "[src/libmpg123/parse.c:skip_junk():1276] error: Giving up searching valid MPEG header after 65536 bytes of junk.\n"
     ]
    },
    {
     "name": "stdout",
     "output_type": "stream",
     "text": [
      "ERRROROROOROROR\n",
      "2022/Totally - Inhaler (FIFA 22 Official Soundtrack).mp3\n"
     ]
    },
    {
     "name": "stderr",
     "output_type": "stream",
     "text": [
      "[src/libmpg123/parse.c:skip_junk():1276] error: Giving up searching valid MPEG header after 65536 bytes of junk.\n"
     ]
    },
    {
     "name": "stdout",
     "output_type": "stream",
     "text": [
      "ERRROROROOROROR\n",
      "2022/Love Me Again - John Newman (Vice Remix) (FIFA 22 Official Volta Soundtrack).mp3\n"
     ]
    },
    {
     "name": "stderr",
     "output_type": "stream",
     "text": [
      "[src/libmpg123/parse.c:skip_junk():1276] error: Giving up searching valid MPEG header after 65536 bytes of junk.\n"
     ]
    },
    {
     "name": "stdout",
     "output_type": "stream",
     "text": [
      "ERRROROROOROROR\n",
      "2022/Blessed - Saint Bodhi (FIFA 22 Official Volta Soundtrack).mp3\n"
     ]
    },
    {
     "name": "stderr",
     "output_type": "stream",
     "text": [
      "[src/libmpg123/parse.c:skip_junk():1276] error: Giving up searching valid MPEG header after 65536 bytes of junk.\n"
     ]
    }
   ],
   "source": [
    "# Paths to your audio folders\n",
    "fifa_base_path = '/Users/vidipkhattar/Developer/YT_FIFA_soundtrack_fetch/fifa_music/'\n",
    "non_fifa_base_path = '/Users/vidipkhattar/Developer/YT_FIFA_soundtrack_fetch/non_fifa_music'\n",
    "\n",
    "def collect_features(base_path, label):\n",
    "    data = []\n",
    "    total_files = sum([len(files) for r, d, files in os.walk(base_path)])\n",
    "    file_count = 0\n",
    "    for year_folder in os.listdir(base_path):\n",
    "        year_path = os.path.join(base_path, year_folder)\n",
    "        if os.path.isdir(year_path):\n",
    "            for file_name in os.listdir(year_path):\n",
    "                file_path = os.path.join(year_path, file_name)\n",
    "                print(year_folder +\"/\"+file_name)\n",
    "                if file_name.endswith('.mp3'):\n",
    "                    try:\n",
    "                        features = extract_features(file_path)\n",
    "                        data.append(features)\n",
    "                        file_count += 1\n",
    "                        print(f\"Processed {file_count}/{total_files} files\")\n",
    "                    except:\n",
    "                        print(\"ERRROROROOROROR\")\n",
    "                        continue\n",
    "    \n",
    "    df = pd.DataFrame(data)\n",
    "    df['label'] = label\n",
    "    return df\n",
    "\n",
    "# Collect features from FIFA and non-FIFA songs\n",
    "print(\"start\")\n",
    "print(fifa_base_path)\n",
    "fifa_data = collect_features(fifa_base_path, 1)\n",
    "print(fifa_data)\n",
    "\n",
    "\n",
    "fifa_data.to_csv('fifa_data.csv')\n",
    "\n",
    "\n",
    "non_fifa_data = collect_features(non_fifa_base_path, 0)\n",
    "\n",
    "non_fifa_data.to_csv('non_fifa_data.csv')\n",
    "\n",
    "\n",
    "\n",
    "\n",
    "\n"
   ]
  },
  {
   "cell_type": "code",
   "execution_count": 7,
   "id": "a55a35bd",
   "metadata": {
    "scrolled": true
   },
   "outputs": [
    {
     "name": "stdout",
     "output_type": "stream",
     "text": [
      "mfcc_mean\n",
      "chroma_mean\n",
      "spectral_contrast_mean\n",
      "mfcc_mean type after conversion: <class 'numpy.ndarray'>\n",
      "chroma_mean type after conversion: <class 'numpy.ndarray'>\n",
      "spectral_contrast_mean type after conversion: <class 'numpy.ndarray'>\n",
      "   Unnamed: 0                                          mfcc_mean  \\\n",
      "0           0  [-32.619434, 60.598656, -8.180313, 32.013237, ...   \n",
      "1           1  [-1131.3708, 0.0, 0.0, 0.0, 0.0, 0.0, 0.0, 0.0...   \n",
      "2           2  [-800.43591, -5.2576694, 17.454554, -17.721691...   \n",
      "3           3  [-3.7192287, 79.258995, -13.804544, 8.829502, ...   \n",
      "4           4  [-29.38718, 113.43048, -22.907265, 25.17928, 9...   \n",
      "\n",
      "                                         chroma_mean  \\\n",
      "0  [0.48237413, 0.45924917, 0.44425854, 0.5240457...   \n",
      "1  [0.0, 0.0, 0.0, 0.0, 0.0, 0.0, 0.0, 0.0, 0.0, ...   \n",
      "2  [0.4881411, 0.52794576, 0.4081643, 0.35740665,...   \n",
      "3  [0.5508295, 0.5268997, 0.5820761, 0.43116522, ...   \n",
      "4  [0.36521044, 0.38719937, 0.35978532, 0.3184604...   \n",
      "\n",
      "                              spectral_contrast_mean  \\\n",
      "0  [20.04147361, 12.7380046, 16.80765501, 18.7857...   \n",
      "1                [0.0, 0.0, 0.0, 0.0, 0.0, 0.0, 0.0]   \n",
      "2  [0.00740851397, 0.0189433117, 0.0800527569, 0....   \n",
      "3  [22.83729975, 13.56111507, 15.80496673, 16.630...   \n",
      "4  [21.84351583, 17.21957364, 18.34545978, 19.330...   \n",
      "\n",
      "                                                mfcc  \\\n",
      "0  [[-462.13718 -462.13718 -462.13718 ... -462.13...   \n",
      "1  [[-1131.3708 -1131.3708]\\n [    0.         0. ...   \n",
      "2  [[-8.0043591e+02]\\n [-5.2576694e+00]\\n [ 1.745...   \n",
      "3  [[-479.39755 -479.39755 -479.39755 ... -479.39...   \n",
      "4  [[-484.02875 -484.02875 -484.02875 ... -484.02...   \n",
      "\n",
      "                                              chroma  \\\n",
      "0  [[0.8288153  0.9201875  0.83470625 ... 0.91454...   \n",
      "1  [[0. 0.]\\n [0. 0.]\\n [0. 0.]\\n [0. 0.]\\n [0. 0...   \n",
      "2  [[0.4881411 ]\\n [0.52794576]\\n [0.4081643 ]\\n ...   \n",
      "3  [[0.74051285 0.9230619  0.87601334 ... 0.87583...   \n",
      "4  [[0.77721155 0.9263539  0.86109    ... 0.86098...   \n",
      "\n",
      "                                   spectral_contrast       tempo  label  \n",
      "0  [[15.85928961 25.02011272 27.54972855 ... 28.4...  129.199219      1  \n",
      "1  [[0. 0.]\\n [0. 0.]\\n [0. 0.]\\n [0. 0.]\\n [0. 0...  117.453835      1  \n",
      "2  [[7.40851397e-03]\\n [1.89433117e-02]\\n [8.0052...  117.453835      1  \n",
      "3  [[15.85928961 25.02011272 27.54972855 ... 28.0...  117.453835      1  \n",
      "4  [[15.85928961 25.02011272 27.54972855 ... 28.0...  129.199219      1  \n",
      "Unnamed: 0                    int64\n",
      "tempo                       float64\n",
      "label                         int64\n",
      "mfcc_mean_0                 float64\n",
      "mfcc_mean_1                 float64\n",
      "mfcc_mean_2                 float64\n",
      "mfcc_mean_3                 float64\n",
      "mfcc_mean_4                 float64\n",
      "mfcc_mean_5                 float64\n",
      "mfcc_mean_6                 float64\n",
      "mfcc_mean_7                 float64\n",
      "mfcc_mean_8                 float64\n",
      "mfcc_mean_9                 float64\n",
      "mfcc_mean_10                float64\n",
      "mfcc_mean_11                float64\n",
      "mfcc_mean_12                float64\n",
      "mfcc_mean_13                float64\n",
      "mfcc_mean_14                float64\n",
      "mfcc_mean_15                float64\n",
      "mfcc_mean_16                float64\n",
      "mfcc_mean_17                float64\n",
      "mfcc_mean_18                float64\n",
      "mfcc_mean_19                float64\n",
      "chroma_mean_0               float64\n",
      "chroma_mean_1               float64\n",
      "chroma_mean_2               float64\n",
      "chroma_mean_3               float64\n",
      "chroma_mean_4               float64\n",
      "chroma_mean_5               float64\n",
      "chroma_mean_6               float64\n",
      "chroma_mean_7               float64\n",
      "chroma_mean_8               float64\n",
      "chroma_mean_9               float64\n",
      "chroma_mean_10              float64\n",
      "chroma_mean_11              float64\n",
      "spectral_contrast_mean_0    float64\n",
      "spectral_contrast_mean_1    float64\n",
      "spectral_contrast_mean_2    float64\n",
      "spectral_contrast_mean_3    float64\n",
      "spectral_contrast_mean_4    float64\n",
      "spectral_contrast_mean_5    float64\n",
      "spectral_contrast_mean_6    float64\n",
      "dtype: object\n",
      "[[  129.19921875   -32.619434      60.598656   ...    19.23929333\n",
      "     20.32677898    47.63891544]\n",
      " [  117.45383523 -1131.3708         0.         ...     0.\n",
      "      0.             0.        ]\n",
      " [  117.45383523  -800.43591       -5.2576694  ...     9.47699248\n",
      "      6.37400585    24.5066796 ]\n",
      " ...\n",
      " [  123.046875    -131.56203      133.20259    ...    28.7722688\n",
      "     33.0287584     49.72438209]\n",
      " [  117.45383523    54.45801       86.95545    ...    14.72726539\n",
      "     19.96554919    43.88527968]\n",
      " [  103.359375    -199.13527      142.0848     ...    27.17607567\n",
      "     33.57474175    48.37451353]]\n",
      "[1 1 1 ... 0 0 0]\n"
     ]
    }
   ],
   "source": [
    "fifa_df = pd.read_csv('fifa_data.csv')\n",
    "non_fifa_df = pd.read_csv('non_fifa_data.csv')\n",
    " \n",
    "#Combine the DataFrames\n",
    "df = pd.concat([fifa_df, non_fifa_df], ignore_index=True)\n",
    "\n",
    "def string_to_array(string):\n",
    "    string = string.strip('[]')\n",
    "    array = np.array(list(map(float, string.split())))\n",
    "    return array\n",
    "\n",
    "columns_to_convert = ['mfcc_mean', 'chroma_mean', 'spectral_contrast_mean']\n",
    "\n",
    "#columns_to_convert_1 = ['mfcc_mean', 'chroma_mean', 'spectral_contrast_mean']\n",
    "\n",
    "for col in columns_to_convert:\n",
    "    print(col)\n",
    "    df[col] = df[col].apply(lambda x: string_to_array(x))\n",
    "    \n",
    "    \n",
    "\n",
    "    \n",
    "for col in columns_to_convert:\n",
    "    print(f\"{col} type after conversion: {type(df[col].iloc[0])}\")\n",
    "    \n",
    "print(df.head())\n",
    "    \n",
    "columns_to_drop = ['mfcc', 'chroma', 'spectral_contrast']\n",
    "df = df.drop(columns=columns_to_drop)\n",
    "\n",
    "flattened_dfs = [df[col].apply(pd.Series) for col in columns_to_convert]\n",
    "\n",
    "# Rename columns to include original column name as prefix\n",
    "for i, col in enumerate(columns_to_convert):\n",
    "    flattened_dfs[i].columns = [f'{col}_{j}' for j in range(flattened_dfs[i].shape[1])]\n",
    "\n",
    "# Combine all flattened columns into a single DataFrame\n",
    "flattened_df = pd.concat([df.drop(columns_to_convert, axis=1)] + flattened_dfs, axis=1)\n",
    "\n",
    "# Check the resulting DataFrame\n",
    "print(flattened_df.dtypes)\n",
    "\n",
    "# Separate features and labels\n",
    "X = flattened_df.drop(['Unnamed: 0', 'label'], axis=1).values\n",
    "y = flattened_df['label'].values\n",
    "\n",
    "print(X)\n",
    "print(y)\n"
   ]
  },
  {
   "cell_type": "code",
   "execution_count": 52,
   "id": "d4a497ce",
   "metadata": {},
   "outputs": [
    {
     "name": "stderr",
     "output_type": "stream",
     "text": [
      "[src/libmpg123/parse.c:skip_junk():1276] error: Giving up searching valid MPEG header after 65536 bytes of junk.\n"
     ]
    },
    {
     "name": "stdout",
     "output_type": "stream",
     "text": [
      "Processed 1901.mp3\n",
      "                                           mfcc_mean  \\\n",
      "0  [-103.94516, 82.99661, 4.8730583, 20.569736, 1...   \n",
      "\n",
      "                                         chroma_mean  \\\n",
      "0  [0.56267816, 0.29939437, 0.35659182, 0.3011815...   \n",
      "\n",
      "                              spectral_contrast_mean       tempo  \n",
      "0  [22.426075490569442, 14.761900965501898, 20.30...  143.554688  \n",
      "mfcc_mean                  object\n",
      "chroma_mean                object\n",
      "spectral_contrast_mean     object\n",
      "tempo                     float64\n",
      "dtype: object\n"
     ]
    }
   ],
   "source": [
    "song_path = '/Users/vidipkhattar/Developer/FifaSoundtrack-classifier'\n",
    "\n",
    "names = []\n",
    "\n",
    "def collect_features_2(base_path):\n",
    "    data = []\n",
    "    for file_name in os.listdir(base_path):\n",
    "        if file_name.endswith('.mp3'):\n",
    "            try:\n",
    "                features = extract_features(base_path+\"/\"+file_name)\n",
    "                data.append(features)\n",
    "                print(f\"Processed {file_name}\")\n",
    "                names.append(file_name)\n",
    "            except:\n",
    "                print(\"ERRROROROOROROR\")\n",
    "                continue\n",
    "    \n",
    "    df = pd.DataFrame(data)\n",
    "    return df\n",
    "\n",
    "def string_to_array(string):\n",
    "    string = string.strip('[]')\n",
    "    array = np.array(list(map(float, string.split())))\n",
    "    return array\n",
    "\n",
    "df = collect_features_2(song_path)\n",
    "\n",
    "\n",
    "\n",
    "\n",
    "columns_to_convert = ['mfcc_mean', 'chroma_mean', 'spectral_contrast_mean']\n",
    "\n",
    "columns_to_drop = ['mfcc', 'chroma', 'spectral_contrast']\n",
    "df = df.drop(columns=columns_to_drop)\n",
    "\n",
    "print(df)\n",
    "print(df.dtypes)\n",
    "\n",
    "flattened_dfs = [df[col].apply(pd.Series) for col in columns_to_convert]\n",
    "\n",
    "# Rename columns to include original column name as prefix\n",
    "for i, col in enumerate(columns_to_convert):\n",
    "    flattened_dfs[i].columns = [f'{col}_{j}' for j in range(flattened_dfs[i].shape[1])]\n",
    "\n",
    "# Combine all flattened columns into a single DataFrame\n",
    "flattened_df = pd.concat([df.drop(columns_to_convert, axis=1)] + flattened_dfs, axis=1)\n",
    "\n",
    "\n"
   ]
  },
  {
   "cell_type": "code",
   "execution_count": 47,
   "id": "c5d9ef3c",
   "metadata": {},
   "outputs": [
    {
     "name": "stdout",
     "output_type": "stream",
     "text": [
      "Accuracy: 0.7529644268774703\n",
      "Classification Report:\n",
      "              precision    recall  f1-score   support\n",
      "\n",
      "           0       0.77      0.94      0.85       368\n",
      "           1       0.62      0.25      0.35       138\n",
      "\n",
      "    accuracy                           0.75       506\n",
      "   macro avg       0.69      0.59      0.60       506\n",
      "weighted avg       0.73      0.75      0.71       506\n",
      "\n"
     ]
    }
   ],
   "source": [
    "X_train, X_test, y_train, y_test = train_test_split(X, y, test_size=0.2, random_state=42)\n",
    "\n",
    "model_path = 'random_forest_model.joblib'\n",
    "scaler_path = 'scaler.joblib'\n",
    "\n",
    "# Standardize the features\n",
    "scaler = StandardScaler()\n",
    "X_train_scaled = scaler.fit_transform(X_train)\n",
    "X_test_scaled = scaler.transform(X_test)\n",
    "\n",
    "# Apply SMOTE to the training data\n",
    "smote = SMOTE(random_state=42)\n",
    "X_train_smote, y_train_smote = smote.fit_resample(X_train_scaled, y_train)\n",
    "\n",
    "# Train the model\n",
    "model = RandomForestClassifier(n_estimators=100, random_state=42)\n",
    "model.fit(X_train_smote, y_train_smote)\n",
    "\n",
    "dump(model, model_path)\n",
    "dump(scaler, scaler_path)\n",
    "\n",
    "print(f'Accuracy: {accuracy}')\n",
    "print(f'Classification Report:\\n{report}')\n"
   ]
  },
  {
   "cell_type": "code",
   "execution_count": 46,
   "id": "85c36b10",
   "metadata": {},
   "outputs": [
    {
     "name": "stdout",
     "output_type": "stream",
     "text": [
      "[0 0 1 0 1 1 0 0 1 0 0 1 1 0 0 0 0 0 0 0 0 0 0 1 0 0 0 0 0 0 0 0 0 0 0]\n",
      " \n",
      "BUSS UR HEAD.mp3\n",
      "Predicted Probability for song 1 being a FIFA song: 44.00%\n",
      " \n",
      "Kings Of Leon - Pyro (HD).mp3\n",
      "Predicted Probability for song 2 being a FIFA song: 45.00%\n",
      " \n",
      "The Wombats - Greek Tragedy (Official Video).mp3\n",
      "Predicted Probability for song 3 being a FIFA song: 64.00%\n",
      " \n",
      "Morrow - 070 Shake (FIFA 21 Official Soundtrack).mp3\n",
      "Predicted Probability for song 4 being a FIFA song: 41.00%\n",
      " \n",
      "Ten Tonnes - G.I.V.E. (Official Lyric Video).mp3\n",
      "Predicted Probability for song 5 being a FIFA song: 70.00%\n",
      " \n",
      "Chocolate.mp3\n",
      "Predicted Probability for song 6 being a FIFA song: 55.00%\n",
      " \n",
      "jungle _ keep moving.mp3\n",
      "Predicted Probability for song 7 being a FIFA song: 28.00%\n",
      " \n",
      "Mac Miller - The Spins.mp3\n",
      "Predicted Probability for song 8 being a FIFA song: 43.00%\n",
      " \n",
      "Grouplove - Tongue Tied (HQ).mp3\n",
      "Predicted Probability for song 9 being a FIFA song: 65.00%\n",
      " \n",
      "Small Black - Breathless (Official Video).mp3\n",
      "Predicted Probability for song 10 being a FIFA song: 39.25%\n",
      " \n",
      "Two Door Cinema Club - What You Know.mp3\n",
      "Predicted Probability for song 11 being a FIFA song: 47.00%\n",
      " \n",
      "CATALYST - DROELOE & IMANU (EAFC 24 SOUNDTRACK).mp3\n",
      "Predicted Probability for song 12 being a FIFA song: 64.00%\n",
      " \n",
      "Cymbals Eat Guitars - “Have a Heart” (Official Music Video).mp3\n",
      "Predicted Probability for song 13 being a FIFA song: 57.00%\n",
      " \n",
      "Synchronize.mp3\n",
      "Predicted Probability for song 14 being a FIFA song: 17.00%\n",
      " \n",
      "Brazil (Official Video).mp3\n",
      "Predicted Probability for song 15 being a FIFA song: 39.25%\n",
      " \n",
      "The Mother We Share.mp3\n",
      "Predicted Probability for song 16 being a FIFA song: 35.00%\n",
      " \n",
      "Coldplay - Adventure Of A Lifetime (Audio).mp3\n",
      "Predicted Probability for song 17 being a FIFA song: 32.00%\n",
      " \n",
      "The Hoosiers- Worried about Ray.mp3\n",
      "Predicted Probability for song 18 being a FIFA song: 39.25%\n",
      " \n",
      "Watermät - Bullit.mp3\n",
      "Predicted Probability for song 19 being a FIFA song: 45.00%\n",
      " \n",
      "Tek It.mp3\n",
      "Predicted Probability for song 20 being a FIFA song: 39.25%\n",
      " \n",
      "Submarine.mp3\n",
      "Predicted Probability for song 21 being a FIFA song: 31.00%\n",
      " \n",
      "Feels Right (Audio).mp3\n",
      "Predicted Probability for song 22 being a FIFA song: 33.00%\n",
      " \n",
      "Stolen Dance.mp3\n",
      "Predicted Probability for song 23 being a FIFA song: 36.00%\n",
      " \n",
      "what_you_know.mp3\n",
      "Predicted Probability for song 24 being a FIFA song: 53.00%\n",
      " \n",
      "1901.mp3\n",
      "Predicted Probability for song 25 being a FIFA song: 34.00%\n",
      " \n",
      "Sweet Disposition.mp3\n",
      "Predicted Probability for song 26 being a FIFA song: 37.00%\n",
      " \n",
      "Home.mp3\n",
      "Predicted Probability for song 27 being a FIFA song: 17.00%\n",
      " \n",
      "Desire [blank].mp3\n",
      "Predicted Probability for song 28 being a FIFA song: 43.00%\n",
      " \n",
      "I Can't Stand It.mp3\n",
      "Predicted Probability for song 29 being a FIFA song: 39.25%\n",
      " \n",
      "Bonfire.mp3\n",
      "Predicted Probability for song 30 being a FIFA song: 48.00%\n",
      " \n",
      "NO FUN.mp3\n",
      "Predicted Probability for song 31 being a FIFA song: 25.00%\n",
      " \n",
      "Naive.mp3\n",
      "Predicted Probability for song 32 being a FIFA song: 43.00%\n",
      " \n",
      "All I Need.mp3\n",
      "Predicted Probability for song 33 being a FIFA song: 40.00%\n",
      " \n",
      "Empire Of The Sun - We Are The People [HQ].mp3\n",
      "Predicted Probability for song 34 being a FIFA song: 36.00%\n",
      " \n",
      "U Say.mp3\n",
      "Predicted Probability for song 35 being a FIFA song: 39.25%\n",
      "Predicted Classes: [0 0 1 0 1 1 0 0 1 0 0 1 1 0 0 0 0 0 0 0 0 0 0 1 0 0 0 0 0 0 0 0 0 0 0]\n"
     ]
    }
   ],
   "source": [
    "# Separate features and labels\n",
    "\n",
    "X_scaled = scaler.fit_transform(flattened_df)\n",
    "\n",
    "y_pred = model.predict(X_scaled)\n",
    "print(y_pred)\n",
    "\n",
    "# Get the predicted probabilities\n",
    "predicted_probabilities = model.predict_proba(X_scaled)\n",
    "\n",
    "# Assuming the class '1' corresponds to FIFA song\n",
    "predicted_probability_class_1 = predicted_probabilities[:, 1]\n",
    "\n",
    "# Output the results\n",
    "for i, probability in enumerate(predicted_probability_class_1):\n",
    "    print(\" \")\n",
    "    print(names[i])\n",
    "    print(f\"Predicted Probability for song {i+1} being a FIFA song: {probability * 100:.2f}%\")\n",
    "\n",
    "# You can also use a threshold to convert probabilities into binary predictions\n",
    "threshold = 0.5\n",
    "predicted_class = (predicted_probability_class_1 > threshold).astype(int)\n",
    "\n",
    "# Output the predicted classes\n",
    "print(f\"Predicted Classes: {predicted_class}\")"
   ]
  },
  {
   "cell_type": "code",
   "execution_count": null,
   "id": "97e38356",
   "metadata": {},
   "outputs": [],
   "source": []
  }
 ],
 "metadata": {
  "kernelspec": {
   "display_name": "Python 3 (ipykernel)",
   "language": "python",
   "name": "python3"
  },
  "language_info": {
   "codemirror_mode": {
    "name": "ipython",
    "version": 3
   },
   "file_extension": ".py",
   "mimetype": "text/x-python",
   "name": "python",
   "nbconvert_exporter": "python",
   "pygments_lexer": "ipython3",
   "version": "3.11.4"
  }
 },
 "nbformat": 4,
 "nbformat_minor": 5
}
